{
 "cells": [
  {
   "cell_type": "code",
   "execution_count": 122,
   "metadata": {
    "collapsed": true
   },
   "outputs": [],
   "source": [
    "import pandas as pd\n",
    "import requests\n",
    "import numpy as np\n",
    "from bs4 import BeautifulSoup"
   ]
  },
  {
   "cell_type": "code",
   "execution_count": 123,
   "metadata": {
    "collapsed": true
   },
   "outputs": [],
   "source": [
    "page = requests.get(\"https://www.sitejabber.com/reviews/www.uber.com\")"
   ]
  },
  {
   "cell_type": "code",
   "execution_count": 124,
   "metadata": {
    "collapsed": true
   },
   "outputs": [],
   "source": [
    "soup = BeautifulSoup(page.content,'html.parser')"
   ]
  },
  {
   "cell_type": "code",
   "execution_count": 125,
   "metadata": {
    "collapsed": true
   },
   "outputs": [],
   "source": [
    "data = soup.find_all(class_='review_container')"
   ]
  },
  {
   "cell_type": "code",
   "execution_count": 126,
   "metadata": {
    "collapsed": false
   },
   "outputs": [],
   "source": [
    "reviews = []\n",
    "for i in data:\n",
    "    #print (i.find(class_='truncate_review review_content'))\n",
    "    #print (i.find('p').getText())\n",
    "    #print (i.find('p').get('data-rating'))\n",
    "    reviews.append(i.find('p').getText())"
   ]
  },
  {
   "cell_type": "code",
   "execution_count": 127,
   "metadata": {
    "collapsed": false
   },
   "outputs": [
    {
     "data": {
      "text/plain": [
       "25"
      ]
     },
     "execution_count": 127,
     "metadata": {},
     "output_type": "execute_result"
    }
   ],
   "source": [
    "len(reviews)"
   ]
  },
  {
   "cell_type": "code",
   "execution_count": 128,
   "metadata": {
    "collapsed": false
   },
   "outputs": [
    {
     "name": "stdout",
     "output_type": "stream",
     "text": [
      "https://www.sitejabber.com/reviews/www.uber.com?page=2#reviews\n",
      "https://www.sitejabber.com/reviews/www.uber.com?page=3#reviews\n",
      "https://www.sitejabber.com/reviews/www.uber.com?page=4#reviews\n",
      "https://www.sitejabber.com/reviews/www.uber.com?page=5#reviews\n",
      "https://www.sitejabber.com/reviews/www.uber.com?page=6#reviews\n",
      "https://www.sitejabber.com/reviews/www.uber.com?page=7#reviews\n",
      "https://www.sitejabber.com/reviews/www.uber.com?page=8#reviews\n",
      "https://www.sitejabber.com/reviews/www.uber.com?page=9#reviews\n",
      "https://www.sitejabber.com/reviews/www.uber.com?page=10#reviews\n",
      "https://www.sitejabber.com/reviews/www.uber.com?page=11#reviews\n",
      "https://www.sitejabber.com/reviews/www.uber.com?page=12#reviews\n",
      "https://www.sitejabber.com/reviews/www.uber.com?page=13#reviews\n",
      "https://www.sitejabber.com/reviews/www.uber.com?page=14#reviews\n",
      "https://www.sitejabber.com/reviews/www.uber.com?page=15#reviews\n",
      "https://www.sitejabber.com/reviews/www.uber.com?page=16#reviews\n",
      "https://www.sitejabber.com/reviews/www.uber.com?page=17#reviews\n",
      "https://www.sitejabber.com/reviews/www.uber.com?page=18#reviews\n",
      "https://www.sitejabber.com/reviews/www.uber.com?page=19#reviews\n",
      "https://www.sitejabber.com/reviews/www.uber.com?page=20#reviews\n",
      "https://www.sitejabber.com/reviews/www.uber.com?page=21#reviews\n",
      "https://www.sitejabber.com/reviews/www.uber.com?page=22#reviews\n",
      "https://www.sitejabber.com/reviews/www.uber.com?page=23#reviews\n",
      "https://www.sitejabber.com/reviews/www.uber.com?page=24#reviews\n",
      "https://www.sitejabber.com/reviews/www.uber.com?page=25#reviews\n",
      "https://www.sitejabber.com/reviews/www.uber.com?page=26#reviews\n",
      "https://www.sitejabber.com/reviews/www.uber.com?page=27#reviews\n"
     ]
    }
   ],
   "source": [
    "page_link = []\n",
    "page_link.append(\"https://www.sitejabber.com/reviews/www.uber.com\")\n",
    "p = True\n",
    "while p:\n",
    "    p_link = soup.find(class_='paginator_next')\n",
    "    try:\n",
    "        li = p_link.find('a').get('href')\n",
    "        li = 'https://www.sitejabber.com' + li\n",
    "        print (li)\n",
    "        page = requests.get(li)\n",
    "        soup = BeautifulSoup(page.content,'html.parser')\n",
    "        page_link.append(li)\n",
    "    except:\n",
    "        break"
   ]
  },
  {
   "cell_type": "code",
   "execution_count": 129,
   "metadata": {
    "collapsed": false
   },
   "outputs": [],
   "source": [
    "reviews = []\n",
    "ratings = []\n",
    "for i in page_link:\n",
    "    page = requests.get(\"%s\"%i)\n",
    "    soup = BeautifulSoup(page.content,'html.parser')\n",
    "    data = soup.find_all(class_=\"review_container\")\n",
    "    #print (i)\n",
    "    for j in data:\n",
    "        r = j.find_all(\"p\")\n",
    "        s = ''\n",
    "        rating = ''\n",
    "        for k in r:\n",
    "            s = s + k.getText()\n",
    "            rating = r[0].get('data-rating')\n",
    "        #print (s)\n",
    "        #print (rating)\n",
    "        reviews.append(s)\n",
    "        ratings.append(rating)"
   ]
  },
  {
   "cell_type": "code",
   "execution_count": 133,
   "metadata": {
    "collapsed": false
   },
   "outputs": [],
   "source": [
    "ride_sentiment = [int(float(x)>=3) for x in ratings]"
   ]
  },
  {
   "cell_type": "code",
   "execution_count": 140,
   "metadata": {
    "collapsed": true
   },
   "outputs": [],
   "source": [
    "ride_data2 = pd.DataFrame(np.column_stack([reviews,ratings,ride_sentiment]),columns=['ride_review','ride_rating','sentiment'])"
   ]
  },
  {
   "cell_type": "code",
   "execution_count": 141,
   "metadata": {
    "collapsed": true
   },
   "outputs": [],
   "source": [
    "ride_data2.to_csv(\"ride_data2.csv\",index=False)"
   ]
  },
  {
   "cell_type": "code",
   "execution_count": 142,
   "metadata": {
    "collapsed": true
   },
   "outputs": [],
   "source": [
    "##End of Ipython Notebook"
   ]
  }
 ],
 "metadata": {
  "anaconda-cloud": {},
  "kernelspec": {
   "display_name": "Python [Root]",
   "language": "python",
   "name": "Python [Root]"
  },
  "language_info": {
   "codemirror_mode": {
    "name": "ipython",
    "version": 3
   },
   "file_extension": ".py",
   "mimetype": "text/x-python",
   "name": "python",
   "nbconvert_exporter": "python",
   "pygments_lexer": "ipython3",
   "version": "3.5.2"
  }
 },
 "nbformat": 4,
 "nbformat_minor": 0
}
