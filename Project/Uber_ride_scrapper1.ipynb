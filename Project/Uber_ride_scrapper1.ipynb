{
 "cells": [
  {
   "cell_type": "code",
   "execution_count": 193,
   "metadata": {
    "collapsed": true
   },
   "outputs": [],
   "source": [
    "import pandas as pd\n",
    "import requests"
   ]
  },
  {
   "cell_type": "code",
   "execution_count": 194,
   "metadata": {
    "collapsed": false
   },
   "outputs": [],
   "source": [
    "page = requests.get(\"https://www.consumeraffairs.com/travel/uber.html\")"
   ]
  },
  {
   "cell_type": "code",
   "execution_count": 195,
   "metadata": {
    "collapsed": true
   },
   "outputs": [],
   "source": [
    "from bs4 import BeautifulSoup"
   ]
  },
  {
   "cell_type": "code",
   "execution_count": 196,
   "metadata": {
    "collapsed": true
   },
   "outputs": [],
   "source": [
    "soup = BeautifulSoup(page.content,'html.parser')"
   ]
  },
  {
   "cell_type": "code",
   "execution_count": 197,
   "metadata": {
    "collapsed": false
   },
   "outputs": [],
   "source": [
    "data = soup.find_all(class_='review-body__text')"
   ]
  },
  {
   "cell_type": "code",
   "execution_count": 198,
   "metadata": {
    "collapsed": false
   },
   "outputs": [],
   "source": [
    "reviews = []\n",
    "for i in data:\n",
    "    reviews.append(i.find('p').getText())"
   ]
  },
  {
   "cell_type": "code",
   "execution_count": 199,
   "metadata": {
    "collapsed": false
   },
   "outputs": [
    {
     "data": {
      "text/plain": [
       "43"
      ]
     },
     "execution_count": 199,
     "metadata": {},
     "output_type": "execute_result"
    }
   ],
   "source": [
    "len(reviews)"
   ]
  },
  {
   "cell_type": "code",
   "execution_count": 200,
   "metadata": {
    "collapsed": false
   },
   "outputs": [
    {
     "name": "stdout",
     "output_type": "stream",
     "text": [
      "https://www.consumeraffairs.com//travel/uber.html?page=2\n",
      "https://www.consumeraffairs.com//travel/uber.html?page=3\n",
      "https://www.consumeraffairs.com//travel/uber.html?page=4\n",
      "https://www.consumeraffairs.com//travel/uber.html?page=5\n",
      "https://www.consumeraffairs.com//travel/uber.html?page=6\n",
      "https://www.consumeraffairs.com//travel/uber.html?page=7\n",
      "https://www.consumeraffairs.com//travel/uber.html?page=8\n",
      "https://www.consumeraffairs.com//travel/uber.html?page=9\n",
      "https://www.consumeraffairs.com//travel/uber.html?page=10\n",
      "https://www.consumeraffairs.com//travel/uber.html?page=11\n",
      "https://www.consumeraffairs.com//travel/uber.html?page=12\n",
      "https://www.consumeraffairs.com//travel/uber.html?page=13\n",
      "https://www.consumeraffairs.com//travel/uber.html?page=14\n",
      "https://www.consumeraffairs.com//travel/uber.html?page=15\n",
      "https://www.consumeraffairs.com//travel/uber.html?page=16\n",
      "https://www.consumeraffairs.com//travel/uber.html?page=17\n",
      "https://www.consumeraffairs.com//travel/uber.html?page=18\n",
      "https://www.consumeraffairs.com//travel/uber.html?page=19\n",
      "https://www.consumeraffairs.com//travel/uber.html?page=20\n",
      "https://www.consumeraffairs.com//travel/uber.html?page=21\n",
      "https://www.consumeraffairs.com//travel/uber.html?page=22\n",
      "https://www.consumeraffairs.com//travel/uber.html?page=23\n",
      "https://www.consumeraffairs.com//travel/uber.html?page=24\n"
     ]
    }
   ],
   "source": [
    "page_link = []\n",
    "page_link.append(\"https://www.consumeraffairs.com/travel/uber.html\")\n",
    "p = True\n",
    "while p:\n",
    "    p_link = soup.find(class_='profile-pager__next js-profile-pager__next')\n",
    "    try:\n",
    "        li = p_link.get('href')\n",
    "        li = 'https://www.consumeraffairs.com/' + li\n",
    "        if(li=='https://www.consumeraffairs.com//travel/uber.html?page=False'):\n",
    "            break\n",
    "        print (li)\n",
    "        page = requests.get(li)\n",
    "        soup = BeautifulSoup(page.content,'html.parser')\n",
    "        page_link.append(li)\n",
    "    except:\n",
    "        break"
   ]
  },
  {
   "cell_type": "code",
   "execution_count": 201,
   "metadata": {
    "collapsed": false
   },
   "outputs": [],
   "source": [
    "reviews = []\n",
    "for i in page_link:\n",
    "    #print (i)\n",
    "    page = requests.get(\"%s\"%i)\n",
    "    soup = BeautifulSoup(page.content,'html.parser')\n",
    "    data = soup.find_all(class_='review-body')\n",
    "    #print (len(data))\n",
    "    for j in data:\n",
    "        data1 = j.find_all('p')\n",
    "        s = ''\n",
    "        for k in data1:\n",
    "            s = s + k.text\n",
    "        reviews.append(s)"
   ]
  },
  {
   "cell_type": "code",
   "execution_count": 202,
   "metadata": {
    "collapsed": false,
    "scrolled": false
   },
   "outputs": [],
   "source": [
    "ratings = []\n",
    "k = 0\n",
    "for i in page_link:\n",
    "    #print (i)\n",
    "    page = requests.get(\"%s\"%i)\n",
    "    soup = BeautifulSoup(page.content,'html.parser')\n",
    "    data = soup.find(class_='campaign-reviews__regular-wrapper')\n",
    "    data1 = data.find_all(class_='stars-rating')\n",
    "    for i in data1:\n",
    "        try:\n",
    "            k += 1\n",
    "            ratings.append(i.get('data-rating'))\n",
    "        except:\n",
    "            k += 1\n",
    "            ratings.append(0)"
   ]
  },
  {
   "cell_type": "code",
   "execution_count": 203,
   "metadata": {
    "collapsed": false
   },
   "outputs": [],
   "source": [
    "ride_sentiment = [int(float(x)>=3) for x in ratings]"
   ]
  },
  {
   "cell_type": "code",
   "execution_count": 204,
   "metadata": {
    "collapsed": true
   },
   "outputs": [],
   "source": [
    "import numpy as np"
   ]
  },
  {
   "cell_type": "code",
   "execution_count": 205,
   "metadata": {
    "collapsed": true
   },
   "outputs": [],
   "source": [
    "ride_data1 = pd.DataFrame(np.column_stack([reviews,ratings,ride_sentiment]),columns=['ride_review','ride_rating','sentiment'])"
   ]
  },
  {
   "cell_type": "code",
   "execution_count": 206,
   "metadata": {
    "collapsed": false
   },
   "outputs": [
    {
     "data": {
      "text/html": [
       "<div>\n",
       "<table border=\"1\" class=\"dataframe\">\n",
       "  <thead>\n",
       "    <tr style=\"text-align: right;\">\n",
       "      <th></th>\n",
       "      <th>ride_review</th>\n",
       "      <th>ride_rating</th>\n",
       "      <th>sentiment</th>\n",
       "    </tr>\n",
       "  </thead>\n",
       "  <tbody>\n",
       "    <tr>\n",
       "      <th>0</th>\n",
       "      <td>I had just completed running the New York Mara...</td>\n",
       "      <td>1.0</td>\n",
       "      <td>0</td>\n",
       "    </tr>\n",
       "    <tr>\n",
       "      <th>1</th>\n",
       "      <td>My appointment time for auto repairs required ...</td>\n",
       "      <td>1.0</td>\n",
       "      <td>0</td>\n",
       "    </tr>\n",
       "    <tr>\n",
       "      <th>2</th>\n",
       "      <td>Whether I am using Uber for a ride service or ...</td>\n",
       "      <td>1.0</td>\n",
       "      <td>0</td>\n",
       "    </tr>\n",
       "    <tr>\n",
       "      <th>3</th>\n",
       "      <td>Why is it so hard for you to understand that i...</td>\n",
       "      <td>1.0</td>\n",
       "      <td>0</td>\n",
       "    </tr>\n",
       "    <tr>\n",
       "      <th>4</th>\n",
       "      <td>I was in South Beach, FL. I was staying at a m...</td>\n",
       "      <td>1.0</td>\n",
       "      <td>0</td>\n",
       "    </tr>\n",
       "  </tbody>\n",
       "</table>\n",
       "</div>"
      ],
      "text/plain": [
       "                                         ride_review ride_rating sentiment\n",
       "0  I had just completed running the New York Mara...         1.0         0\n",
       "1  My appointment time for auto repairs required ...         1.0         0\n",
       "2  Whether I am using Uber for a ride service or ...         1.0         0\n",
       "3  Why is it so hard for you to understand that i...         1.0         0\n",
       "4  I was in South Beach, FL. I was staying at a m...         1.0         0"
      ]
     },
     "execution_count": 206,
     "metadata": {},
     "output_type": "execute_result"
    }
   ],
   "source": [
    "ride_data1.head()"
   ]
  },
  {
   "cell_type": "code",
   "execution_count": 207,
   "metadata": {
    "collapsed": true
   },
   "outputs": [],
   "source": [
    "ride_data1.to_csv(\"ride_data1.csv\",index=False)"
   ]
  },
  {
   "cell_type": "code",
   "execution_count": 208,
   "metadata": {
    "collapsed": true
   },
   "outputs": [],
   "source": [
    "## End of Ipython Notebook"
   ]
  }
 ],
 "metadata": {
  "anaconda-cloud": {},
  "kernelspec": {
   "display_name": "Python [Root]",
   "language": "python",
   "name": "Python [Root]"
  },
  "language_info": {
   "codemirror_mode": {
    "name": "ipython",
    "version": 3
   },
   "file_extension": ".py",
   "mimetype": "text/x-python",
   "name": "python",
   "nbconvert_exporter": "python",
   "pygments_lexer": "ipython3",
   "version": "3.5.2"
  }
 },
 "nbformat": 4,
 "nbformat_minor": 0
}
