{
 "cells": [
  {
   "cell_type": "code",
   "execution_count": 207,
   "metadata": {
    "collapsed": true
   },
   "outputs": [],
   "source": [
    "import pandas as pd"
   ]
  },
  {
   "cell_type": "code",
   "execution_count": 208,
   "metadata": {
    "collapsed": false
   },
   "outputs": [],
   "source": [
    "data = pd.read_csv(\"/Users/purvank/Downloads/train2016.csv\")"
   ]
  },
  {
   "cell_type": "code",
   "execution_count": 209,
   "metadata": {
    "collapsed": false
   },
   "outputs": [
    {
     "data": {
      "text/html": [
       "<div>\n",
       "<table border=\"1\" class=\"dataframe\">\n",
       "  <thead>\n",
       "    <tr style=\"text-align: right;\">\n",
       "      <th></th>\n",
       "      <th>USER_ID</th>\n",
       "      <th>YOB</th>\n",
       "      <th>Gender</th>\n",
       "      <th>Income</th>\n",
       "      <th>HouseholdStatus</th>\n",
       "      <th>EducationLevel</th>\n",
       "      <th>Party</th>\n",
       "      <th>Q124742</th>\n",
       "      <th>Q124122</th>\n",
       "      <th>Q123464</th>\n",
       "      <th>...</th>\n",
       "      <th>Q100010</th>\n",
       "      <th>Q99716</th>\n",
       "      <th>Q99581</th>\n",
       "      <th>Q99480</th>\n",
       "      <th>Q98869</th>\n",
       "      <th>Q98578</th>\n",
       "      <th>Q98059</th>\n",
       "      <th>Q98078</th>\n",
       "      <th>Q98197</th>\n",
       "      <th>Q96024</th>\n",
       "    </tr>\n",
       "  </thead>\n",
       "  <tbody>\n",
       "    <tr>\n",
       "      <th>0</th>\n",
       "      <td>1</td>\n",
       "      <td>1938.0</td>\n",
       "      <td>Male</td>\n",
       "      <td>NaN</td>\n",
       "      <td>Married (w/kids)</td>\n",
       "      <td>NaN</td>\n",
       "      <td>Democrat</td>\n",
       "      <td>No</td>\n",
       "      <td>NaN</td>\n",
       "      <td>No</td>\n",
       "      <td>...</td>\n",
       "      <td>Yes</td>\n",
       "      <td>No</td>\n",
       "      <td>No</td>\n",
       "      <td>NaN</td>\n",
       "      <td>No</td>\n",
       "      <td>NaN</td>\n",
       "      <td>Only-child</td>\n",
       "      <td>No</td>\n",
       "      <td>No</td>\n",
       "      <td>Yes</td>\n",
       "    </tr>\n",
       "    <tr>\n",
       "      <th>1</th>\n",
       "      <td>4</td>\n",
       "      <td>1970.0</td>\n",
       "      <td>Female</td>\n",
       "      <td>over $150,000</td>\n",
       "      <td>Domestic Partners (w/kids)</td>\n",
       "      <td>Bachelor's Degree</td>\n",
       "      <td>Democrat</td>\n",
       "      <td>NaN</td>\n",
       "      <td>Yes</td>\n",
       "      <td>No</td>\n",
       "      <td>...</td>\n",
       "      <td>NaN</td>\n",
       "      <td>NaN</td>\n",
       "      <td>NaN</td>\n",
       "      <td>No</td>\n",
       "      <td>No</td>\n",
       "      <td>No</td>\n",
       "      <td>Only-child</td>\n",
       "      <td>Yes</td>\n",
       "      <td>No</td>\n",
       "      <td>No</td>\n",
       "    </tr>\n",
       "    <tr>\n",
       "      <th>2</th>\n",
       "      <td>5</td>\n",
       "      <td>1997.0</td>\n",
       "      <td>Male</td>\n",
       "      <td>$75,000 - $100,000</td>\n",
       "      <td>Single (no kids)</td>\n",
       "      <td>High School Diploma</td>\n",
       "      <td>Republican</td>\n",
       "      <td>NaN</td>\n",
       "      <td>Yes</td>\n",
       "      <td>Yes</td>\n",
       "      <td>...</td>\n",
       "      <td>Yes</td>\n",
       "      <td>No</td>\n",
       "      <td>No</td>\n",
       "      <td>No</td>\n",
       "      <td>Yes</td>\n",
       "      <td>No</td>\n",
       "      <td>Yes</td>\n",
       "      <td>No</td>\n",
       "      <td>Yes</td>\n",
       "      <td>No</td>\n",
       "    </tr>\n",
       "    <tr>\n",
       "      <th>3</th>\n",
       "      <td>8</td>\n",
       "      <td>1983.0</td>\n",
       "      <td>Male</td>\n",
       "      <td>$100,001 - $150,000</td>\n",
       "      <td>Married (w/kids)</td>\n",
       "      <td>Bachelor's Degree</td>\n",
       "      <td>Democrat</td>\n",
       "      <td>No</td>\n",
       "      <td>Yes</td>\n",
       "      <td>No</td>\n",
       "      <td>...</td>\n",
       "      <td>No</td>\n",
       "      <td>No</td>\n",
       "      <td>No</td>\n",
       "      <td>Yes</td>\n",
       "      <td>Yes</td>\n",
       "      <td>No</td>\n",
       "      <td>Yes</td>\n",
       "      <td>No</td>\n",
       "      <td>No</td>\n",
       "      <td>Yes</td>\n",
       "    </tr>\n",
       "    <tr>\n",
       "      <th>4</th>\n",
       "      <td>9</td>\n",
       "      <td>1984.0</td>\n",
       "      <td>Female</td>\n",
       "      <td>$50,000 - $74,999</td>\n",
       "      <td>Married (w/kids)</td>\n",
       "      <td>High School Diploma</td>\n",
       "      <td>Republican</td>\n",
       "      <td>No</td>\n",
       "      <td>Yes</td>\n",
       "      <td>No</td>\n",
       "      <td>...</td>\n",
       "      <td>Yes</td>\n",
       "      <td>No</td>\n",
       "      <td>No</td>\n",
       "      <td>Yes</td>\n",
       "      <td>No</td>\n",
       "      <td>No</td>\n",
       "      <td>Yes</td>\n",
       "      <td>No</td>\n",
       "      <td>No</td>\n",
       "      <td>Yes</td>\n",
       "    </tr>\n",
       "  </tbody>\n",
       "</table>\n",
       "<p>5 rows × 108 columns</p>\n",
       "</div>"
      ],
      "text/plain": [
       "   USER_ID     YOB  Gender               Income             HouseholdStatus  \\\n",
       "0        1  1938.0    Male                  NaN            Married (w/kids)   \n",
       "1        4  1970.0  Female        over $150,000  Domestic Partners (w/kids)   \n",
       "2        5  1997.0    Male   $75,000 - $100,000            Single (no kids)   \n",
       "3        8  1983.0    Male  $100,001 - $150,000            Married (w/kids)   \n",
       "4        9  1984.0  Female    $50,000 - $74,999            Married (w/kids)   \n",
       "\n",
       "        EducationLevel       Party Q124742 Q124122 Q123464  ...   Q100010  \\\n",
       "0                  NaN    Democrat      No     NaN      No  ...       Yes   \n",
       "1    Bachelor's Degree    Democrat     NaN     Yes      No  ...       NaN   \n",
       "2  High School Diploma  Republican     NaN     Yes     Yes  ...       Yes   \n",
       "3    Bachelor's Degree    Democrat      No     Yes      No  ...        No   \n",
       "4  High School Diploma  Republican      No     Yes      No  ...       Yes   \n",
       "\n",
       "  Q99716 Q99581 Q99480 Q98869 Q98578      Q98059 Q98078 Q98197 Q96024  \n",
       "0     No     No    NaN     No    NaN  Only-child     No     No    Yes  \n",
       "1    NaN    NaN     No     No     No  Only-child    Yes     No     No  \n",
       "2     No     No     No    Yes     No         Yes     No    Yes     No  \n",
       "3     No     No    Yes    Yes     No         Yes     No     No    Yes  \n",
       "4     No     No    Yes     No     No         Yes     No     No    Yes  \n",
       "\n",
       "[5 rows x 108 columns]"
      ]
     },
     "execution_count": 209,
     "metadata": {},
     "output_type": "execute_result"
    }
   ],
   "source": [
    "data.head()"
   ]
  },
  {
   "cell_type": "code",
   "execution_count": 210,
   "metadata": {
    "collapsed": false
   },
   "outputs": [],
   "source": [
    "X = data[data.columns.difference(['Party'])]\n",
    "Y = data['Party']"
   ]
  },
  {
   "cell_type": "code",
   "execution_count": 211,
   "metadata": {
    "collapsed": false
   },
   "outputs": [
    {
     "name": "stderr",
     "output_type": "stream",
     "text": [
      "/Users/purvank/anaconda3/lib/python3.5/site-packages/pandas/core/generic.py:3295: SettingWithCopyWarning: \n",
      "A value is trying to be set on a copy of a slice from a DataFrame\n",
      "\n",
      "See the caveats in the documentation: http://pandas.pydata.org/pandas-docs/stable/indexing.html#indexing-view-versus-copy\n",
      "  self._update_inplace(new_data)\n"
     ]
    }
   ],
   "source": [
    "for i in X.columns:\n",
    "    if(X[i].dtype=='object'):\n",
    "        X[i].fillna(X[i].mode()[0],inplace=True)\n",
    "    else:\n",
    "        X[i].fillna(int(X[i].mean()),inplace=True)"
   ]
  },
  {
   "cell_type": "code",
   "execution_count": 212,
   "metadata": {
    "collapsed": false
   },
   "outputs": [],
   "source": [
    "X = pd.get_dummies(X)"
   ]
  },
  {
   "cell_type": "code",
   "execution_count": 213,
   "metadata": {
    "collapsed": false
   },
   "outputs": [],
   "source": [
    "del X['USER_ID']\n",
    "del X['YOB']"
   ]
  },
  {
   "cell_type": "code",
   "execution_count": 214,
   "metadata": {
    "collapsed": false
   },
   "outputs": [],
   "source": [
    "from sklearn.model_selection import train_test_split\n",
    "X_train,X_test,Y_train,Y_test = train_test_split(X,Y,train_size=0.67,random_state = 3)"
   ]
  },
  {
   "cell_type": "code",
   "execution_count": 215,
   "metadata": {
    "collapsed": false
   },
   "outputs": [],
   "source": [
    "X_test.index = range(0,len(X_test))"
   ]
  },
  {
   "cell_type": "code",
   "execution_count": 216,
   "metadata": {
    "collapsed": true
   },
   "outputs": [],
   "source": [
    "from sklearn.naive_bayes import BernoulliNB"
   ]
  },
  {
   "cell_type": "code",
   "execution_count": 217,
   "metadata": {
    "collapsed": true
   },
   "outputs": [],
   "source": [
    "clf = BernoulliNB()"
   ]
  },
  {
   "cell_type": "code",
   "execution_count": 218,
   "metadata": {
    "collapsed": true
   },
   "outputs": [],
   "source": [
    "clf.fit(X_train,Y_train)\n",
    "pred = clf.predict(X_test)"
   ]
  },
  {
   "cell_type": "code",
   "execution_count": 219,
   "metadata": {
    "collapsed": false
   },
   "outputs": [],
   "source": [
    "pos_proba = clf.feature_log_prob_"
   ]
  },
  {
   "cell_type": "code",
   "execution_count": 220,
   "metadata": {
    "collapsed": false
   },
   "outputs": [],
   "source": [
    "class_prob = clf.class_log_prior_"
   ]
  },
  {
   "cell_type": "code",
   "execution_count": 221,
   "metadata": {
    "collapsed": false
   },
   "outputs": [],
   "source": [
    "import numpy as np"
   ]
  },
  {
   "cell_type": "code",
   "execution_count": 222,
   "metadata": {
    "collapsed": true
   },
   "outputs": [],
   "source": [
    "neg_prob = np.log(1-np.exp(clf.feature_log_prob_))"
   ]
  },
  {
   "cell_type": "code",
   "execution_count": 223,
   "metadata": {
    "collapsed": true
   },
   "outputs": [],
   "source": [
    "test_prob = clf.predict_proba(X_test)"
   ]
  },
  {
   "cell_type": "code",
   "execution_count": 224,
   "metadata": {
    "collapsed": false
   },
   "outputs": [],
   "source": [
    "pos_obj_index = np.argmax(test_prob[:,0])"
   ]
  },
  {
   "cell_type": "code",
   "execution_count": 225,
   "metadata": {
    "collapsed": true
   },
   "outputs": [],
   "source": [
    "neg_obj_index = np.argmax(test_prob[:,1])"
   ]
  },
  {
   "cell_type": "code",
   "execution_count": 226,
   "metadata": {
    "collapsed": false
   },
   "outputs": [
    {
     "data": {
      "text/plain": [
       "0.11271973369983712"
      ]
     },
     "execution_count": 226,
     "metadata": {},
     "output_type": "execute_result"
    }
   ],
   "source": [
    "class_prob[0] - class_prob[1]"
   ]
  },
  {
   "cell_type": "code",
   "execution_count": 227,
   "metadata": {
    "collapsed": true
   },
   "outputs": [],
   "source": [
    "total_pos_evi = {}\n",
    "total_neg_evi = {}\n",
    "pos_evi_feat = {}\n",
    "neg_evi_feat = {}"
   ]
  },
  {
   "cell_type": "code",
   "execution_count": 228,
   "metadata": {
    "collapsed": false
   },
   "outputs": [],
   "source": [
    "for i,r in X_test.iterrows():\n",
    "    pos_evd = class_prob[0] - class_prob[1]\n",
    "    neg_evd = 0\n",
    "    feat_pos = {}\n",
    "    feat_neg = {}\n",
    "    for j in range(0,len(r)):\n",
    "        if(r[j]==0):\n",
    "            if(neg_prob[0][j]-neg_prob[1][j]>0):\n",
    "                pos_evd += neg_prob[0][j] - neg_prob[1][j]\n",
    "                feat_pos[j] = neg_prob[0][j] - neg_prob[1][j]\n",
    "            if(neg_prob[0][j]-neg_prob[1][j]<0):\n",
    "                neg_evd += neg_prob[0][j] - neg_prob[1][j]\n",
    "                feat_neg[j] = neg_prob[0][j] - neg_prob[1][j]\n",
    "        if(r[j]==1):\n",
    "            if(pos_proba[0][j]-pos_proba[1][j]>0):\n",
    "                pos_evd += pos_proba[0][j] - pos_proba[1][j]\n",
    "                feat_pos[j] = pos_proba[0][j] - pos_proba[1][j]\n",
    "            if(pos_proba[0][j]-pos_proba[1][j]<0):\n",
    "                neg_evd += pos_proba[0][j] - pos_proba[1][j]\n",
    "                feat_neg[j] = pos_proba[0][j] - pos_proba[1][j]\n",
    "    pos_evi_feat[i] = feat_pos\n",
    "    neg_evi_feat[i] = feat_neg\n",
    "    total_pos_evi[i] = pos_evd\n",
    "    total_neg_evi[i] = neg_evd"
   ]
  },
  {
   "cell_type": "code",
   "execution_count": 229,
   "metadata": {
    "collapsed": false
   },
   "outputs": [],
   "source": [
    "largest_pos_evd = sorted(total_pos_evi, key=total_pos_evi.get,reverse=True)"
   ]
  },
  {
   "cell_type": "code",
   "execution_count": 230,
   "metadata": {
    "collapsed": false
   },
   "outputs": [],
   "source": [
    "largest_neg_evd = sorted(total_neg_evi,key=total_neg_evi.get,reverse=True)"
   ]
  },
  {
   "cell_type": "code",
   "execution_count": 231,
   "metadata": {
    "collapsed": false
   },
   "outputs": [
    {
     "name": "stdout",
     "output_type": "stream",
     "text": [
      "(828, 0.49999827319769369)\n",
      "(828, 0.5000017268023067)\n"
     ]
    }
   ],
   "source": [
    "# The most uncertain object with respect to the probabilities\n",
    "print (min(enumerate(test_prob[:,0]),key=lambda x: abs(x[1]-0.5)))\n",
    "print (min(enumerate(test_prob[:,1]),key=lambda x: abs(x[1]-0.5)))"
   ]
  },
  {
   "cell_type": "markdown",
   "metadata": {
    "collapsed": true
   },
   "source": [
    "## 1. The most positive object with respect to the probabilities"
   ]
  },
  {
   "cell_type": "code",
   "execution_count": 232,
   "metadata": {
    "collapsed": false
   },
   "outputs": [
    {
     "data": {
      "text/plain": [
       "EducationLevel_Associate's Degree              1\n",
       "EducationLevel_Bachelor's Degree               0\n",
       "EducationLevel_Current K-12                    0\n",
       "EducationLevel_Current Undergraduate           0\n",
       "EducationLevel_Doctoral Degree                 0\n",
       "EducationLevel_High School Diploma             0\n",
       "EducationLevel_Master's Degree                 0\n",
       "Gender_Female                                  1\n",
       "Gender_Male                                    0\n",
       "HouseholdStatus_Domestic Partners (no kids)    0\n",
       "HouseholdStatus_Domestic Partners (w/kids)     0\n",
       "HouseholdStatus_Married (no kids)              0\n",
       "HouseholdStatus_Married (w/kids)               0\n",
       "HouseholdStatus_Single (no kids)               1\n",
       "HouseholdStatus_Single (w/kids)                0\n",
       "Income_$100,001 - $150,000                     0\n",
       "Income_$25,001 - $50,000                       0\n",
       "Income_$50,000 - $74,999                       0\n",
       "Income_$75,000 - $100,000                      0\n",
       "Income_over $150,000                           0\n",
       "Income_under $25,000                           1\n",
       "Q100010_No                                     1\n",
       "Q100010_Yes                                    0\n",
       "Q100562_No                                     0\n",
       "Q100562_Yes                                    1\n",
       "Q100680_No                                     0\n",
       "Q100680_Yes                                    1\n",
       "Q100689_No                                     0\n",
       "Q100689_Yes                                    1\n",
       "Q101162_Optimist                               0\n",
       "                                              ..\n",
       "Q122771_Private                                0\n",
       "Q122771_Public                                 1\n",
       "Q123464_No                                     0\n",
       "Q123464_Yes                                    1\n",
       "Q123621_No                                     1\n",
       "Q123621_Yes                                    0\n",
       "Q124122_No                                     0\n",
       "Q124122_Yes                                    1\n",
       "Q124742_No                                     1\n",
       "Q124742_Yes                                    0\n",
       "Q96024_No                                      1\n",
       "Q96024_Yes                                     0\n",
       "Q98059_Only-child                              1\n",
       "Q98059_Yes                                     0\n",
       "Q98078_No                                      1\n",
       "Q98078_Yes                                     0\n",
       "Q98197_No                                      1\n",
       "Q98197_Yes                                     0\n",
       "Q98578_No                                      1\n",
       "Q98578_Yes                                     0\n",
       "Q98869_No                                      1\n",
       "Q98869_Yes                                     0\n",
       "Q99480_No                                      1\n",
       "Q99480_Yes                                     0\n",
       "Q99581_No                                      1\n",
       "Q99581_Yes                                     0\n",
       "Q99716_No                                      0\n",
       "Q99716_Yes                                     1\n",
       "Q99982_Check!                                  1\n",
       "Q99982_Nope                                    0\n",
       "Name: 1195, dtype: uint8"
      ]
     },
     "execution_count": 232,
     "metadata": {},
     "output_type": "execute_result"
    }
   ],
   "source": [
    "X_test.iloc[pos_obj_index]"
   ]
  },
  {
   "cell_type": "markdown",
   "metadata": {},
   "source": [
    "### 1.1) the total positive log-evidence"
   ]
  },
  {
   "cell_type": "code",
   "execution_count": 236,
   "metadata": {
    "collapsed": false
   },
   "outputs": [
    {
     "name": "stdout",
     "output_type": "stream",
     "text": [
      "The total positive log-evidence: 12.338390\n"
     ]
    }
   ],
   "source": [
    "print (\"The total positive log-evidence: %f\"%total_pos_evi[pos_obj_index])"
   ]
  },
  {
   "cell_type": "markdown",
   "metadata": {},
   "source": [
    "### 1.2) the total negative log-evidence"
   ]
  },
  {
   "cell_type": "code",
   "execution_count": 237,
   "metadata": {
    "collapsed": false
   },
   "outputs": [
    {
     "name": "stdout",
     "output_type": "stream",
     "text": [
      "The total negative log-evidence: -2.620438\n"
     ]
    }
   ],
   "source": [
    "print (\"The total negative log-evidence: %f\"%total_neg_evi[pos_obj_index])"
   ]
  },
  {
   "cell_type": "markdown",
   "metadata": {},
   "source": [
    "### 1.3) Probability Distribution"
   ]
  },
  {
   "cell_type": "code",
   "execution_count": 238,
   "metadata": {
    "collapsed": false
   },
   "outputs": [
    {
     "name": "stdout",
     "output_type": "stream",
     "text": [
      "Class-1 Probability:0.999940\n",
      "Class-0 Probaility: 0.000060\n"
     ]
    }
   ],
   "source": [
    "print (\"Class-1 Probability:%f\"%test_prob[pos_obj_index][0])\n",
    "print (\"Class-0 Probaility: %f\"%test_prob[pos_obj_index][1])"
   ]
  },
  {
   "cell_type": "markdown",
   "metadata": {},
   "source": [
    "### 1.4) top 3 features values that contribute most to the positive evidence"
   ]
  },
  {
   "cell_type": "code",
   "execution_count": 239,
   "metadata": {
    "collapsed": false
   },
   "outputs": [],
   "source": [
    "top3_pos_feat_index = sorted(pos_evi_feat[pos_obj_index], key=pos_evi_feat[pos_obj_index].get,reverse=True)[0:3]"
   ]
  },
  {
   "cell_type": "code",
   "execution_count": 240,
   "metadata": {
    "collapsed": false
   },
   "outputs": [
    {
     "name": "stdout",
     "output_type": "stream",
     "text": [
      "First Feature: Q109244_No\n",
      "Second Feature: Q109244_Yes\n",
      "Third Feature: Q98869_Yes\n"
     ]
    }
   ],
   "source": [
    "print (\"First Feature: %s\"%X_test.columns[top3_pos_feat_index[0]])\n",
    "print (\"Second Feature: %s\"%X_test.columns[top3_pos_feat_index[1]])\n",
    "print (\"Third Feature: %s\"%X_test.columns[top3_pos_feat_index[2]])"
   ]
  },
  {
   "cell_type": "markdown",
   "metadata": {},
   "source": [
    "### 1.5) top 3 feature values that contribute the most to the negative evidence."
   ]
  },
  {
   "cell_type": "code",
   "execution_count": 241,
   "metadata": {
    "collapsed": true
   },
   "outputs": [],
   "source": [
    "top3_neg_feat_index = sorted(neg_evi_feat[pos_obj_index], key=neg_evi_feat[pos_obj_index].get,reverse=True)[0:3]"
   ]
  },
  {
   "cell_type": "code",
   "execution_count": 242,
   "metadata": {
    "collapsed": false,
    "scrolled": true
   },
   "outputs": [
    {
     "name": "stdout",
     "output_type": "stream",
     "text": [
      "First Feature: Income_$100,001 - $150,000\n",
      "Second Feature: EducationLevel_Doctoral Degree\n",
      "Third Feature: Q108343_Yes\n"
     ]
    }
   ],
   "source": [
    "print (\"First Feature: %s\"%X_test.columns[top3_neg_feat_index[0]])\n",
    "print (\"Second Feature: %s\"%X_test.columns[top3_neg_feat_index[1]])\n",
    "print (\"Third Feature: %s\"%X_test.columns[top3_neg_feat_index[2]])"
   ]
  },
  {
   "cell_type": "markdown",
   "metadata": {},
   "source": [
    "## 2) The most negative object with respect to the probabilities."
   ]
  },
  {
   "cell_type": "code",
   "execution_count": 243,
   "metadata": {
    "collapsed": false
   },
   "outputs": [
    {
     "data": {
      "text/plain": [
       "EducationLevel_Associate's Degree              0\n",
       "EducationLevel_Bachelor's Degree               1\n",
       "EducationLevel_Current K-12                    0\n",
       "EducationLevel_Current Undergraduate           0\n",
       "EducationLevel_Doctoral Degree                 0\n",
       "EducationLevel_High School Diploma             0\n",
       "EducationLevel_Master's Degree                 0\n",
       "Gender_Female                                  0\n",
       "Gender_Male                                    1\n",
       "HouseholdStatus_Domestic Partners (no kids)    0\n",
       "HouseholdStatus_Domestic Partners (w/kids)     0\n",
       "HouseholdStatus_Married (no kids)              0\n",
       "HouseholdStatus_Married (w/kids)               1\n",
       "HouseholdStatus_Single (no kids)               0\n",
       "HouseholdStatus_Single (w/kids)                0\n",
       "Income_$100,001 - $150,000                     0\n",
       "Income_$25,001 - $50,000                       0\n",
       "Income_$50,000 - $74,999                       0\n",
       "Income_$75,000 - $100,000                      0\n",
       "Income_over $150,000                           1\n",
       "Income_under $25,000                           0\n",
       "Q100010_No                                     0\n",
       "Q100010_Yes                                    1\n",
       "Q100562_No                                     0\n",
       "Q100562_Yes                                    1\n",
       "Q100680_No                                     1\n",
       "Q100680_Yes                                    0\n",
       "Q100689_No                                     0\n",
       "Q100689_Yes                                    1\n",
       "Q101162_Optimist                               1\n",
       "                                              ..\n",
       "Q122771_Private                                1\n",
       "Q122771_Public                                 0\n",
       "Q123464_No                                     1\n",
       "Q123464_Yes                                    0\n",
       "Q123621_No                                     0\n",
       "Q123621_Yes                                    1\n",
       "Q124122_No                                     1\n",
       "Q124122_Yes                                    0\n",
       "Q124742_No                                     0\n",
       "Q124742_Yes                                    1\n",
       "Q96024_No                                      0\n",
       "Q96024_Yes                                     1\n",
       "Q98059_Only-child                              0\n",
       "Q98059_Yes                                     1\n",
       "Q98078_No                                      1\n",
       "Q98078_Yes                                     0\n",
       "Q98197_No                                      0\n",
       "Q98197_Yes                                     1\n",
       "Q98578_No                                      1\n",
       "Q98578_Yes                                     0\n",
       "Q98869_No                                      0\n",
       "Q98869_Yes                                     1\n",
       "Q99480_No                                      0\n",
       "Q99480_Yes                                     1\n",
       "Q99581_No                                      1\n",
       "Q99581_Yes                                     0\n",
       "Q99716_No                                      1\n",
       "Q99716_Yes                                     0\n",
       "Q99982_Check!                                  1\n",
       "Q99982_Nope                                    0\n",
       "Name: 1518, dtype: uint8"
      ]
     },
     "execution_count": 243,
     "metadata": {},
     "output_type": "execute_result"
    }
   ],
   "source": [
    "X_test.iloc[neg_obj_index]"
   ]
  },
  {
   "cell_type": "markdown",
   "metadata": {},
   "source": [
    "### 2.1) the total positive log-evidence"
   ]
  },
  {
   "cell_type": "code",
   "execution_count": 244,
   "metadata": {
    "collapsed": false
   },
   "outputs": [
    {
     "name": "stdout",
     "output_type": "stream",
     "text": [
      "The total positive log-evidence: 2.676487\n"
     ]
    }
   ],
   "source": [
    "print (\"The total positive log-evidence: %f\"%total_pos_evi[neg_obj_index])"
   ]
  },
  {
   "cell_type": "markdown",
   "metadata": {},
   "source": [
    "### 2.2) the total negative log-evidence"
   ]
  },
  {
   "cell_type": "code",
   "execution_count": 245,
   "metadata": {
    "collapsed": false
   },
   "outputs": [
    {
     "name": "stdout",
     "output_type": "stream",
     "text": [
      "The total negative log-evidence: -11.993326\n"
     ]
    }
   ],
   "source": [
    "print (\"The total negative log-evidence: %f\"%total_neg_evi[neg_obj_index])"
   ]
  },
  {
   "cell_type": "markdown",
   "metadata": {},
   "source": [
    "### 2.3) Probability Distribution"
   ]
  },
  {
   "cell_type": "code",
   "execution_count": 246,
   "metadata": {
    "collapsed": false
   },
   "outputs": [
    {
     "name": "stdout",
     "output_type": "stream",
     "text": [
      "Class-1 Probability:0.000090\n",
      "Class-0 Probaility: 0.999910\n"
     ]
    }
   ],
   "source": [
    "print (\"Class-1 Probability:%f\"%test_prob[neg_obj_index][0])\n",
    "print (\"Class-0 Probaility: %f\"%test_prob[neg_obj_index][1])"
   ]
  },
  {
   "cell_type": "markdown",
   "metadata": {},
   "source": [
    "### 2.4) top 3 features values that contribute most to the positive evidence"
   ]
  },
  {
   "cell_type": "code",
   "execution_count": 247,
   "metadata": {
    "collapsed": false
   },
   "outputs": [],
   "source": [
    "top3_pos_feat_index = sorted(pos_evi_feat[neg_obj_index], key=pos_evi_feat[neg_obj_index].get,reverse=True)[0:3]"
   ]
  },
  {
   "cell_type": "code",
   "execution_count": 248,
   "metadata": {
    "collapsed": false
   },
   "outputs": [
    {
     "name": "stdout",
     "output_type": "stream",
     "text": [
      "First Feature: Q120012_No\n",
      "Second Feature: Q120012_Yes\n",
      "Third Feature: Q110740_PC\n"
     ]
    }
   ],
   "source": [
    "print (\"First Feature: %s\"%X_test.columns[top3_pos_feat_index[0]])\n",
    "print (\"Second Feature: %s\"%X_test.columns[top3_pos_feat_index[1]])\n",
    "print (\"Third Feature: %s\"%X_test.columns[top3_pos_feat_index[2]])"
   ]
  },
  {
   "cell_type": "markdown",
   "metadata": {},
   "source": [
    "### 2.5) top 3 feature values that contribute the most to the negative evidence."
   ]
  },
  {
   "cell_type": "code",
   "execution_count": 249,
   "metadata": {
    "collapsed": true
   },
   "outputs": [],
   "source": [
    "top3_neg_feat_index = sorted(neg_evi_feat[neg_obj_index], key=neg_evi_feat[neg_obj_index].get,reverse=True)[0:3]"
   ]
  },
  {
   "cell_type": "code",
   "execution_count": 250,
   "metadata": {
    "collapsed": false
   },
   "outputs": [
    {
     "name": "stdout",
     "output_type": "stream",
     "text": [
      "First Feature: Income_$100,001 - $150,000\n",
      "Second Feature: EducationLevel_Doctoral Degree\n",
      "Third Feature: Q108343_Yes\n"
     ]
    }
   ],
   "source": [
    "print (\"First Feature: %s\"%X_test.columns[top3_neg_feat_index[0]])\n",
    "print (\"Second Feature: %s\"%X_test.columns[top3_neg_feat_index[1]])\n",
    "print (\"Third Feature: %s\"%X_test.columns[top3_neg_feat_index[2]])"
   ]
  },
  {
   "cell_type": "markdown",
   "metadata": {},
   "source": [
    "## 3) The object that has the largest positive evidence."
   ]
  },
  {
   "cell_type": "code",
   "execution_count": 259,
   "metadata": {
    "collapsed": false
   },
   "outputs": [],
   "source": [
    "largest_pos_evd = sorted(total_pos_evi, key=total_pos_evi.get,reverse=True)\n",
    "largest_pos_evd_index = largest_pos_evd[0]\n",
    "largest_pos_evd_obj = X_test.iloc[largest_pos_evd[0]]"
   ]
  },
  {
   "cell_type": "code",
   "execution_count": 260,
   "metadata": {
    "collapsed": false
   },
   "outputs": [
    {
     "data": {
      "text/plain": [
       "EducationLevel_Associate's Degree              0\n",
       "EducationLevel_Bachelor's Degree               0\n",
       "EducationLevel_Current K-12                    0\n",
       "EducationLevel_Current Undergraduate           0\n",
       "EducationLevel_Doctoral Degree                 0\n",
       "EducationLevel_High School Diploma             0\n",
       "EducationLevel_Master's Degree                 1\n",
       "Gender_Female                                  1\n",
       "Gender_Male                                    0\n",
       "HouseholdStatus_Domestic Partners (no kids)    0\n",
       "HouseholdStatus_Domestic Partners (w/kids)     0\n",
       "HouseholdStatus_Married (no kids)              0\n",
       "HouseholdStatus_Married (w/kids)               0\n",
       "HouseholdStatus_Single (no kids)               1\n",
       "HouseholdStatus_Single (w/kids)                0\n",
       "Income_$100,001 - $150,000                     0\n",
       "Income_$25,001 - $50,000                       0\n",
       "Income_$50,000 - $74,999                       1\n",
       "Income_$75,000 - $100,000                      0\n",
       "Income_over $150,000                           0\n",
       "Income_under $25,000                           0\n",
       "Q100010_No                                     0\n",
       "Q100010_Yes                                    1\n",
       "Q100562_No                                     0\n",
       "Q100562_Yes                                    1\n",
       "Q100680_No                                     0\n",
       "Q100680_Yes                                    1\n",
       "Q100689_No                                     0\n",
       "Q100689_Yes                                    1\n",
       "Q101162_Optimist                               1\n",
       "                                              ..\n",
       "Q122771_Private                                0\n",
       "Q122771_Public                                 1\n",
       "Q123464_No                                     1\n",
       "Q123464_Yes                                    0\n",
       "Q123621_No                                     0\n",
       "Q123621_Yes                                    1\n",
       "Q124122_No                                     0\n",
       "Q124122_Yes                                    1\n",
       "Q124742_No                                     1\n",
       "Q124742_Yes                                    0\n",
       "Q96024_No                                      0\n",
       "Q96024_Yes                                     1\n",
       "Q98059_Only-child                              0\n",
       "Q98059_Yes                                     1\n",
       "Q98078_No                                      0\n",
       "Q98078_Yes                                     1\n",
       "Q98197_No                                      1\n",
       "Q98197_Yes                                     0\n",
       "Q98578_No                                      1\n",
       "Q98578_Yes                                     0\n",
       "Q98869_No                                      1\n",
       "Q98869_Yes                                     0\n",
       "Q99480_No                                      1\n",
       "Q99480_Yes                                     0\n",
       "Q99581_No                                      1\n",
       "Q99581_Yes                                     0\n",
       "Q99716_No                                      0\n",
       "Q99716_Yes                                     1\n",
       "Q99982_Check!                                  1\n",
       "Q99982_Nope                                    0\n",
       "Name: 857, dtype: uint8"
      ]
     },
     "execution_count": 260,
     "metadata": {},
     "output_type": "execute_result"
    }
   ],
   "source": [
    "largest_pos_evd_obj"
   ]
  },
  {
   "cell_type": "markdown",
   "metadata": {},
   "source": [
    "### 3.1) the total positive log-evidence"
   ]
  },
  {
   "cell_type": "code",
   "execution_count": 261,
   "metadata": {
    "collapsed": false
   },
   "outputs": [
    {
     "name": "stdout",
     "output_type": "stream",
     "text": [
      "The total positive log-evidence: 12.607412\n"
     ]
    }
   ],
   "source": [
    "print (\"The total positive log-evidence: %f\"%total_pos_evi[largest_pos_evd_index])"
   ]
  },
  {
   "cell_type": "markdown",
   "metadata": {},
   "source": [
    "### 3.2) the total negative log-evidence"
   ]
  },
  {
   "cell_type": "code",
   "execution_count": 262,
   "metadata": {
    "collapsed": false
   },
   "outputs": [
    {
     "name": "stdout",
     "output_type": "stream",
     "text": [
      "The total negative log-evidence: -4.095075\n"
     ]
    }
   ],
   "source": [
    "print (\"The total negative log-evidence: %f\"%total_neg_evi[largest_pos_evd_index])"
   ]
  },
  {
   "cell_type": "markdown",
   "metadata": {},
   "source": [
    "### 3.3) Probability Distribution"
   ]
  },
  {
   "cell_type": "code",
   "execution_count": 263,
   "metadata": {
    "collapsed": false
   },
   "outputs": [
    {
     "name": "stdout",
     "output_type": "stream",
     "text": [
      "Class-1 Probability:0.999799\n",
      "Class-0 Probaility: 0.000201\n"
     ]
    }
   ],
   "source": [
    "print (\"Class-1 Probability:%f\"%test_prob[largest_pos_evd_index][0])\n",
    "print (\"Class-0 Probaility: %f\"%test_prob[largest_pos_evd_index][1])"
   ]
  },
  {
   "cell_type": "markdown",
   "metadata": {},
   "source": [
    "### 3.4) top 3 features values that contribute most to the positive evidence"
   ]
  },
  {
   "cell_type": "code",
   "execution_count": 264,
   "metadata": {
    "collapsed": true
   },
   "outputs": [],
   "source": [
    "top3_pos_feat_index = sorted(pos_evi_feat[largest_pos_evd_index], key=pos_evi_feat[largest_pos_evd_index].get,reverse=True)[0:3]"
   ]
  },
  {
   "cell_type": "code",
   "execution_count": 265,
   "metadata": {
    "collapsed": false
   },
   "outputs": [
    {
     "name": "stdout",
     "output_type": "stream",
     "text": [
      "First Feature: Q109244_No\n",
      "Second Feature: Q109244_Yes\n",
      "Third Feature: Q98869_Yes\n"
     ]
    }
   ],
   "source": [
    "print (\"First Feature: %s\"%X_test.columns[top3_pos_feat_index[0]])\n",
    "print (\"Second Feature: %s\"%X_test.columns[top3_pos_feat_index[1]])\n",
    "print (\"Third Feature: %s\"%X_test.columns[top3_pos_feat_index[2]])"
   ]
  },
  {
   "cell_type": "markdown",
   "metadata": {},
   "source": [
    "### 3.5) top 3 feature values that contribute the most to the negative evidence."
   ]
  },
  {
   "cell_type": "code",
   "execution_count": 266,
   "metadata": {
    "collapsed": true
   },
   "outputs": [],
   "source": [
    "top3_neg_feat_index = sorted(neg_evi_feat[largest_pos_evd_index], key=neg_evi_feat[largest_pos_evd_index].get,reverse=True)[0:3]"
   ]
  },
  {
   "cell_type": "code",
   "execution_count": 267,
   "metadata": {
    "collapsed": false
   },
   "outputs": [
    {
     "name": "stdout",
     "output_type": "stream",
     "text": [
      "First Feature: Income_$100,001 - $150,000\n",
      "Second Feature: EducationLevel_Doctoral Degree\n",
      "Third Feature: Q108343_Yes\n"
     ]
    }
   ],
   "source": [
    "print (\"First Feature: %s\"%X_test.columns[top3_neg_feat_index[0]])\n",
    "print (\"Second Feature: %s\"%X_test.columns[top3_neg_feat_index[1]])\n",
    "print (\"Third Feature: %s\"%X_test.columns[top3_neg_feat_index[2]])"
   ]
  },
  {
   "cell_type": "markdown",
   "metadata": {},
   "source": [
    "## 4) The object that has the largest (in magnitude) negative evidence."
   ]
  },
  {
   "cell_type": "code",
   "execution_count": 268,
   "metadata": {
    "collapsed": true
   },
   "outputs": [],
   "source": [
    "largest_neg_evd = sorted(total_neg_evi, key=total_neg_evi.get,reverse=True)\n",
    "largest_neg_evd_index = largest_neg_evd[0]\n",
    "largest_neg_evd_obj = X_test.iloc[largest_neg_evd[0]]"
   ]
  },
  {
   "cell_type": "code",
   "execution_count": 270,
   "metadata": {
    "collapsed": false
   },
   "outputs": [
    {
     "data": {
      "text/plain": [
       "EducationLevel_Associate's Degree              0\n",
       "EducationLevel_Bachelor's Degree               1\n",
       "EducationLevel_Current K-12                    0\n",
       "EducationLevel_Current Undergraduate           0\n",
       "EducationLevel_Doctoral Degree                 0\n",
       "EducationLevel_High School Diploma             0\n",
       "EducationLevel_Master's Degree                 0\n",
       "Gender_Female                                  1\n",
       "Gender_Male                                    0\n",
       "HouseholdStatus_Domestic Partners (no kids)    0\n",
       "HouseholdStatus_Domestic Partners (w/kids)     0\n",
       "HouseholdStatus_Married (no kids)              0\n",
       "HouseholdStatus_Married (w/kids)               0\n",
       "HouseholdStatus_Single (no kids)               1\n",
       "HouseholdStatus_Single (w/kids)                0\n",
       "Income_$100,001 - $150,000                     0\n",
       "Income_$25,001 - $50,000                       0\n",
       "Income_$50,000 - $74,999                       0\n",
       "Income_$75,000 - $100,000                      0\n",
       "Income_over $150,000                           0\n",
       "Income_under $25,000                           1\n",
       "Q100010_No                                     0\n",
       "Q100010_Yes                                    1\n",
       "Q100562_No                                     0\n",
       "Q100562_Yes                                    1\n",
       "Q100680_No                                     0\n",
       "Q100680_Yes                                    1\n",
       "Q100689_No                                     0\n",
       "Q100689_Yes                                    1\n",
       "Q101162_Optimist                               1\n",
       "                                              ..\n",
       "Q122771_Private                                0\n",
       "Q122771_Public                                 1\n",
       "Q123464_No                                     1\n",
       "Q123464_Yes                                    0\n",
       "Q123621_No                                     1\n",
       "Q123621_Yes                                    0\n",
       "Q124122_No                                     0\n",
       "Q124122_Yes                                    1\n",
       "Q124742_No                                     1\n",
       "Q124742_Yes                                    0\n",
       "Q96024_No                                      0\n",
       "Q96024_Yes                                     1\n",
       "Q98059_Only-child                              0\n",
       "Q98059_Yes                                     1\n",
       "Q98078_No                                      1\n",
       "Q98078_Yes                                     0\n",
       "Q98197_No                                      1\n",
       "Q98197_Yes                                     0\n",
       "Q98578_No                                      1\n",
       "Q98578_Yes                                     0\n",
       "Q98869_No                                      0\n",
       "Q98869_Yes                                     1\n",
       "Q99480_No                                      0\n",
       "Q99480_Yes                                     1\n",
       "Q99581_No                                      1\n",
       "Q99581_Yes                                     0\n",
       "Q99716_No                                      1\n",
       "Q99716_Yes                                     0\n",
       "Q99982_Check!                                  1\n",
       "Q99982_Nope                                    0\n",
       "Name: 1461, dtype: uint8"
      ]
     },
     "execution_count": 270,
     "metadata": {},
     "output_type": "execute_result"
    }
   ],
   "source": [
    "largest_neg_evd_obj"
   ]
  },
  {
   "cell_type": "markdown",
   "metadata": {},
   "source": [
    "### 4.1)  the total positive log-evidence"
   ]
  },
  {
   "cell_type": "code",
   "execution_count": 271,
   "metadata": {
    "collapsed": false
   },
   "outputs": [
    {
     "name": "stdout",
     "output_type": "stream",
     "text": [
      "The total positive log-evidence: 8.616982\n"
     ]
    }
   ],
   "source": [
    "print (\"The total positive log-evidence: %f\"%total_pos_evi[largest_neg_evd_index])"
   ]
  },
  {
   "cell_type": "markdown",
   "metadata": {},
   "source": [
    "### 4.2) the total negative log-evidence"
   ]
  },
  {
   "cell_type": "code",
   "execution_count": 272,
   "metadata": {
    "collapsed": false
   },
   "outputs": [
    {
     "name": "stdout",
     "output_type": "stream",
     "text": [
      "The total negative log-evidence: -1.893058\n"
     ]
    }
   ],
   "source": [
    "print (\"The total negative log-evidence: %f\"%total_neg_evi[largest_neg_evd_index])"
   ]
  },
  {
   "cell_type": "markdown",
   "metadata": {},
   "source": [
    "### 4.3) Probability Distribution"
   ]
  },
  {
   "cell_type": "code",
   "execution_count": 275,
   "metadata": {
    "collapsed": false
   },
   "outputs": [
    {
     "name": "stdout",
     "output_type": "stream",
     "text": [
      "Class-1 Probability:0.998800\n",
      "Class-0 Probaility: 0.001200\n"
     ]
    }
   ],
   "source": [
    "print (\"Class-1 Probability:%f\"%test_prob[largest_neg_evd_index][0])\n",
    "print (\"Class-0 Probaility: %f\"%test_prob[largest_neg_evd_index][1])"
   ]
  },
  {
   "cell_type": "markdown",
   "metadata": {},
   "source": [
    "### 4.4) top 3 features values that contribute most to the positive evidence"
   ]
  },
  {
   "cell_type": "code",
   "execution_count": 277,
   "metadata": {
    "collapsed": true
   },
   "outputs": [],
   "source": [
    "top3_pos_feat_index = sorted(pos_evi_feat[largest_neg_evd_index], key=pos_evi_feat[largest_neg_evd_index].get,reverse=True)[0:3]"
   ]
  },
  {
   "cell_type": "code",
   "execution_count": 278,
   "metadata": {
    "collapsed": false
   },
   "outputs": [
    {
     "name": "stdout",
     "output_type": "stream",
     "text": [
      "First Feature: Q109244_No\n",
      "Second Feature: Q109244_Yes\n",
      "Third Feature: Gender_Male\n"
     ]
    }
   ],
   "source": [
    "print (\"First Feature: %s\"%X_test.columns[top3_pos_feat_index[0]])\n",
    "print (\"Second Feature: %s\"%X_test.columns[top3_pos_feat_index[1]])\n",
    "print (\"Third Feature: %s\"%X_test.columns[top3_pos_feat_index[2]])"
   ]
  },
  {
   "cell_type": "markdown",
   "metadata": {},
   "source": [
    "### 4.5) top 3 feature values that contribute the most to the negative evidence."
   ]
  },
  {
   "cell_type": "code",
   "execution_count": 279,
   "metadata": {
    "collapsed": false
   },
   "outputs": [
    {
     "name": "stdout",
     "output_type": "stream",
     "text": [
      "First Feature: Income_$100,001 - $150,000\n",
      "Second Feature: EducationLevel_Doctoral Degree\n",
      "Third Feature: Q111580_Supportive\n"
     ]
    }
   ],
   "source": [
    "top3_neg_feat_index = sorted(neg_evi_feat[largest_neg_evd_index], key=neg_evi_feat[largest_neg_evd_index].get,reverse=True)[0:3]\n",
    "print (\"First Feature: %s\"%X_test.columns[top3_neg_feat_index[0]])\n",
    "print (\"Second Feature: %s\"%X_test.columns[top3_neg_feat_index[1]])\n",
    "print (\"Third Feature: %s\"%X_test.columns[top3_neg_feat_index[2]])"
   ]
  },
  {
   "cell_type": "markdown",
   "metadata": {},
   "source": [
    "## 5) The most uncertain object (the probabilities are closest to 0.5)"
   ]
  },
  {
   "cell_type": "code",
   "execution_count": 280,
   "metadata": {
    "collapsed": false
   },
   "outputs": [
    {
     "name": "stdout",
     "output_type": "stream",
     "text": [
      "(828, 0.49999827319769369)\n",
      "(828, 0.5000017268023067)\n"
     ]
    }
   ],
   "source": [
    "# The most uncertain object with respect to the probabilities\n",
    "print (min(enumerate(test_prob[:,0]),key=lambda x: abs(x[1]-0.5)))\n",
    "print (min(enumerate(test_prob[:,1]),key=lambda x: abs(x[1]-0.5)))"
   ]
  },
  {
   "cell_type": "markdown",
   "metadata": {},
   "source": [
    "### 5.1) the total positive log-evidence"
   ]
  },
  {
   "cell_type": "code",
   "execution_count": 282,
   "metadata": {
    "collapsed": false
   },
   "outputs": [
    {
     "name": "stdout",
     "output_type": "stream",
     "text": [
      "The total positive log-evidence: 4.919405\n"
     ]
    }
   ],
   "source": [
    "print (\"The total positive log-evidence: %f\"%total_pos_evi[828])"
   ]
  },
  {
   "cell_type": "markdown",
   "metadata": {},
   "source": [
    "### 5.2) the total negative log-evidence"
   ]
  },
  {
   "cell_type": "code",
   "execution_count": 283,
   "metadata": {
    "collapsed": false
   },
   "outputs": [
    {
     "name": "stdout",
     "output_type": "stream",
     "text": [
      "The total negative log-evidence: -4.919412\n"
     ]
    }
   ],
   "source": [
    "print (\"The total negative log-evidence: %f\"%total_neg_evi[828])"
   ]
  },
  {
   "cell_type": "markdown",
   "metadata": {},
   "source": [
    "### 5.3) Probability Distribution"
   ]
  },
  {
   "cell_type": "code",
   "execution_count": 284,
   "metadata": {
    "collapsed": false
   },
   "outputs": [
    {
     "name": "stdout",
     "output_type": "stream",
     "text": [
      "Class-1 Probability:0.499998\n",
      "Class-0 Probaility: 0.500002\n"
     ]
    }
   ],
   "source": [
    "print (\"Class-1 Probability:%f\"%test_prob[828][0])\n",
    "print (\"Class-0 Probaility: %f\"%test_prob[828][1])"
   ]
  },
  {
   "cell_type": "markdown",
   "metadata": {},
   "source": [
    "### 5.4) top 3 features values that contribute most to the positive evidence"
   ]
  },
  {
   "cell_type": "code",
   "execution_count": 286,
   "metadata": {
    "collapsed": true
   },
   "outputs": [],
   "source": [
    "top3_pos_feat_index = sorted(pos_evi_feat[828], key=pos_evi_feat[828].get,reverse=True)[0:3]"
   ]
  },
  {
   "cell_type": "code",
   "execution_count": 287,
   "metadata": {
    "collapsed": false
   },
   "outputs": [
    {
     "name": "stdout",
     "output_type": "stream",
     "text": [
      "First Feature: Q101163_Dad\n",
      "Second Feature: Q101163_Mom\n",
      "Third Feature: EducationLevel_Current Undergraduate\n"
     ]
    }
   ],
   "source": [
    "print (\"First Feature: %s\"%X_test.columns[top3_pos_feat_index[0]])\n",
    "print (\"Second Feature: %s\"%X_test.columns[top3_pos_feat_index[1]])\n",
    "print (\"Third Feature: %s\"%X_test.columns[top3_pos_feat_index[2]])"
   ]
  },
  {
   "cell_type": "markdown",
   "metadata": {},
   "source": [
    "### 5.5) top 3 feature values that contribute the most to the negative evidence."
   ]
  },
  {
   "cell_type": "code",
   "execution_count": 288,
   "metadata": {
    "collapsed": false
   },
   "outputs": [
    {
     "name": "stdout",
     "output_type": "stream",
     "text": [
      "First Feature: Income_$100,001 - $150,000\n",
      "Second Feature: EducationLevel_Doctoral Degree\n",
      "Third Feature: Q108343_Yes\n"
     ]
    }
   ],
   "source": [
    "top3_neg_feat_index = sorted(neg_evi_feat[828], key=neg_evi_feat[828].get,reverse=True)[0:3]\n",
    "print (\"First Feature: %s\"%X_test.columns[top3_neg_feat_index[0]])\n",
    "print (\"Second Feature: %s\"%X_test.columns[top3_neg_feat_index[1]])\n",
    "print (\"Third Feature: %s\"%X_test.columns[top3_neg_feat_index[2]])"
   ]
  },
  {
   "cell_type": "code",
   "execution_count": 289,
   "metadata": {
    "collapsed": true
   },
   "outputs": [],
   "source": [
    "## End of Ipython Notebook"
   ]
  }
 ],
 "metadata": {
  "anaconda-cloud": {},
  "kernelspec": {
   "display_name": "Python [Root]",
   "language": "python",
   "name": "Python [Root]"
  },
  "language_info": {
   "codemirror_mode": {
    "name": "ipython",
    "version": 3
   },
   "file_extension": ".py",
   "mimetype": "text/x-python",
   "name": "python",
   "nbconvert_exporter": "python",
   "pygments_lexer": "ipython3",
   "version": "3.5.2"
  }
 },
 "nbformat": 4,
 "nbformat_minor": 0
}
