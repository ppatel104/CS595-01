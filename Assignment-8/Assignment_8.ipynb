{
 "cells": [
  {
   "cell_type": "markdown",
   "metadata": {},
   "source": [
    "# Assignment 8:\n",
    "\n",
    "## Task: Can we accurately predict voting outcomes by using informal polling questions? (https://www.kaggle.com/c/can-we-predict-voting-outcomes)\n",
    "\n",
    "## Data: In this data, we have to predict whether the person is going to vote for democrat or republican based on an answers to an informal questions and other attributes. There are total 101 informal questions and their answers in the data. The questions.pdf file contains the information about the questions.\n",
    "\n",
    "## Attributes:\n",
    "### USER_ID - an anonymous id unique to a given user\n",
    "### YOB - the year of birth of the user\n",
    "### Gender - the gender of the user, either Male or Female\n",
    "### Income - the household income of the user. Either not provided, or one of \"under $25,000\", \"$25,001 - $50,000\", \"$50,000 - $74,999\", \"$75,000 - $100,000\", \"$100,001 - $150,000\", or \"over $150,000\".\n",
    "### HouseholdStatus - the household status of the user. Either not provided, or one of \"Domestic Partners (no kids)\", \"Domestic Partners (w/kids)\", \"Married (no kids)\", \"Married (w/kids)\", \"Single (no kids)\", or \"Single (w/kids)\".\n",
    "### EducationalLevel - the education level of the user. Either not provided, or one of \"Current K-12\", \"High School Diploma\", \"Current Undergraduate\", \"Associate's Degree\", \"Bachelor's Degree\", \"Master's Degree\", or \"Doctoral Degree\".\n",
    "### Party - the political party for whom the user intends to vote for. Either \"Democrat\" or \"Republican\n",
    "### Q124742, Q124122, . . . , Q96024 - 101 different questions that the users were asked on Show of Hands. If the user didn't answer the question, there is a blank. For information about the question text and possible answers, see the file Questions.pdf."
   ]
  },
  {
   "cell_type": "code",
   "execution_count": 1,
   "metadata": {
    "collapsed": true
   },
   "outputs": [],
   "source": [
    "import pandas as pd\n",
    "from sklearn.model_selection import train_test_split\n",
    "from sklearn.naive_bayes import BernoulliNB\n",
    "import numpy as np"
   ]
  },
  {
   "cell_type": "code",
   "execution_count": 2,
   "metadata": {
    "collapsed": false
   },
   "outputs": [],
   "source": [
    "data = pd.read_csv(\"train2016.csv\")"
   ]
  },
  {
   "cell_type": "code",
   "execution_count": 3,
   "metadata": {
    "collapsed": false
   },
   "outputs": [
    {
     "data": {
      "text/html": [
       "<div>\n",
       "<table border=\"1\" class=\"dataframe\">\n",
       "  <thead>\n",
       "    <tr style=\"text-align: right;\">\n",
       "      <th></th>\n",
       "      <th>USER_ID</th>\n",
       "      <th>YOB</th>\n",
       "      <th>Gender</th>\n",
       "      <th>Income</th>\n",
       "      <th>HouseholdStatus</th>\n",
       "      <th>EducationLevel</th>\n",
       "      <th>Party</th>\n",
       "      <th>Q124742</th>\n",
       "      <th>Q124122</th>\n",
       "      <th>Q123464</th>\n",
       "      <th>...</th>\n",
       "      <th>Q100010</th>\n",
       "      <th>Q99716</th>\n",
       "      <th>Q99581</th>\n",
       "      <th>Q99480</th>\n",
       "      <th>Q98869</th>\n",
       "      <th>Q98578</th>\n",
       "      <th>Q98059</th>\n",
       "      <th>Q98078</th>\n",
       "      <th>Q98197</th>\n",
       "      <th>Q96024</th>\n",
       "    </tr>\n",
       "  </thead>\n",
       "  <tbody>\n",
       "    <tr>\n",
       "      <th>0</th>\n",
       "      <td>1</td>\n",
       "      <td>1938.0</td>\n",
       "      <td>Male</td>\n",
       "      <td>NaN</td>\n",
       "      <td>Married (w/kids)</td>\n",
       "      <td>NaN</td>\n",
       "      <td>Democrat</td>\n",
       "      <td>No</td>\n",
       "      <td>NaN</td>\n",
       "      <td>No</td>\n",
       "      <td>...</td>\n",
       "      <td>Yes</td>\n",
       "      <td>No</td>\n",
       "      <td>No</td>\n",
       "      <td>NaN</td>\n",
       "      <td>No</td>\n",
       "      <td>NaN</td>\n",
       "      <td>Only-child</td>\n",
       "      <td>No</td>\n",
       "      <td>No</td>\n",
       "      <td>Yes</td>\n",
       "    </tr>\n",
       "    <tr>\n",
       "      <th>1</th>\n",
       "      <td>4</td>\n",
       "      <td>1970.0</td>\n",
       "      <td>Female</td>\n",
       "      <td>over $150,000</td>\n",
       "      <td>Domestic Partners (w/kids)</td>\n",
       "      <td>Bachelor's Degree</td>\n",
       "      <td>Democrat</td>\n",
       "      <td>NaN</td>\n",
       "      <td>Yes</td>\n",
       "      <td>No</td>\n",
       "      <td>...</td>\n",
       "      <td>NaN</td>\n",
       "      <td>NaN</td>\n",
       "      <td>NaN</td>\n",
       "      <td>No</td>\n",
       "      <td>No</td>\n",
       "      <td>No</td>\n",
       "      <td>Only-child</td>\n",
       "      <td>Yes</td>\n",
       "      <td>No</td>\n",
       "      <td>No</td>\n",
       "    </tr>\n",
       "    <tr>\n",
       "      <th>2</th>\n",
       "      <td>5</td>\n",
       "      <td>1997.0</td>\n",
       "      <td>Male</td>\n",
       "      <td>$75,000 - $100,000</td>\n",
       "      <td>Single (no kids)</td>\n",
       "      <td>High School Diploma</td>\n",
       "      <td>Republican</td>\n",
       "      <td>NaN</td>\n",
       "      <td>Yes</td>\n",
       "      <td>Yes</td>\n",
       "      <td>...</td>\n",
       "      <td>Yes</td>\n",
       "      <td>No</td>\n",
       "      <td>No</td>\n",
       "      <td>No</td>\n",
       "      <td>Yes</td>\n",
       "      <td>No</td>\n",
       "      <td>Yes</td>\n",
       "      <td>No</td>\n",
       "      <td>Yes</td>\n",
       "      <td>No</td>\n",
       "    </tr>\n",
       "    <tr>\n",
       "      <th>3</th>\n",
       "      <td>8</td>\n",
       "      <td>1983.0</td>\n",
       "      <td>Male</td>\n",
       "      <td>$100,001 - $150,000</td>\n",
       "      <td>Married (w/kids)</td>\n",
       "      <td>Bachelor's Degree</td>\n",
       "      <td>Democrat</td>\n",
       "      <td>No</td>\n",
       "      <td>Yes</td>\n",
       "      <td>No</td>\n",
       "      <td>...</td>\n",
       "      <td>No</td>\n",
       "      <td>No</td>\n",
       "      <td>No</td>\n",
       "      <td>Yes</td>\n",
       "      <td>Yes</td>\n",
       "      <td>No</td>\n",
       "      <td>Yes</td>\n",
       "      <td>No</td>\n",
       "      <td>No</td>\n",
       "      <td>Yes</td>\n",
       "    </tr>\n",
       "    <tr>\n",
       "      <th>4</th>\n",
       "      <td>9</td>\n",
       "      <td>1984.0</td>\n",
       "      <td>Female</td>\n",
       "      <td>$50,000 - $74,999</td>\n",
       "      <td>Married (w/kids)</td>\n",
       "      <td>High School Diploma</td>\n",
       "      <td>Republican</td>\n",
       "      <td>No</td>\n",
       "      <td>Yes</td>\n",
       "      <td>No</td>\n",
       "      <td>...</td>\n",
       "      <td>Yes</td>\n",
       "      <td>No</td>\n",
       "      <td>No</td>\n",
       "      <td>Yes</td>\n",
       "      <td>No</td>\n",
       "      <td>No</td>\n",
       "      <td>Yes</td>\n",
       "      <td>No</td>\n",
       "      <td>No</td>\n",
       "      <td>Yes</td>\n",
       "    </tr>\n",
       "  </tbody>\n",
       "</table>\n",
       "<p>5 rows × 108 columns</p>\n",
       "</div>"
      ],
      "text/plain": [
       "   USER_ID     YOB  Gender               Income             HouseholdStatus  \\\n",
       "0        1  1938.0    Male                  NaN            Married (w/kids)   \n",
       "1        4  1970.0  Female        over $150,000  Domestic Partners (w/kids)   \n",
       "2        5  1997.0    Male   $75,000 - $100,000            Single (no kids)   \n",
       "3        8  1983.0    Male  $100,001 - $150,000            Married (w/kids)   \n",
       "4        9  1984.0  Female    $50,000 - $74,999            Married (w/kids)   \n",
       "\n",
       "        EducationLevel       Party Q124742 Q124122 Q123464  ...   Q100010  \\\n",
       "0                  NaN    Democrat      No     NaN      No  ...       Yes   \n",
       "1    Bachelor's Degree    Democrat     NaN     Yes      No  ...       NaN   \n",
       "2  High School Diploma  Republican     NaN     Yes     Yes  ...       Yes   \n",
       "3    Bachelor's Degree    Democrat      No     Yes      No  ...        No   \n",
       "4  High School Diploma  Republican      No     Yes      No  ...       Yes   \n",
       "\n",
       "  Q99716 Q99581 Q99480 Q98869 Q98578      Q98059 Q98078 Q98197 Q96024  \n",
       "0     No     No    NaN     No    NaN  Only-child     No     No    Yes  \n",
       "1    NaN    NaN     No     No     No  Only-child    Yes     No     No  \n",
       "2     No     No     No    Yes     No         Yes     No    Yes     No  \n",
       "3     No     No    Yes    Yes     No         Yes     No     No    Yes  \n",
       "4     No     No    Yes     No     No         Yes     No     No    Yes  \n",
       "\n",
       "[5 rows x 108 columns]"
      ]
     },
     "execution_count": 3,
     "metadata": {},
     "output_type": "execute_result"
    }
   ],
   "source": [
    "data.head()"
   ]
  },
  {
   "cell_type": "markdown",
   "metadata": {},
   "source": [
    "## Data Pre-Processing"
   ]
  },
  {
   "cell_type": "code",
   "execution_count": 4,
   "metadata": {
    "collapsed": false
   },
   "outputs": [],
   "source": [
    "X = data[data.columns.difference(['Party'])]\n",
    "Y = data['Party']"
   ]
  },
  {
   "cell_type": "code",
   "execution_count": 5,
   "metadata": {
    "collapsed": false
   },
   "outputs": [
    {
     "name": "stderr",
     "output_type": "stream",
     "text": [
      "/Users/purvank/anaconda3/lib/python3.5/site-packages/pandas/core/generic.py:3295: SettingWithCopyWarning: \n",
      "A value is trying to be set on a copy of a slice from a DataFrame\n",
      "\n",
      "See the caveats in the documentation: http://pandas.pydata.org/pandas-docs/stable/indexing.html#indexing-view-versus-copy\n",
      "  self._update_inplace(new_data)\n"
     ]
    }
   ],
   "source": [
    "for i in X.columns:\n",
    "    if(X[i].dtype=='object'):\n",
    "        X[i].fillna(X[i].mode()[0],inplace=True)\n",
    "    else:\n",
    "        X[i].fillna(int(X[i].mean()),inplace=True)"
   ]
  },
  {
   "cell_type": "code",
   "execution_count": 6,
   "metadata": {
    "collapsed": false
   },
   "outputs": [],
   "source": [
    "X = pd.get_dummies(X)"
   ]
  },
  {
   "cell_type": "code",
   "execution_count": 7,
   "metadata": {
    "collapsed": false
   },
   "outputs": [],
   "source": [
    "del X['USER_ID']"
   ]
  },
  {
   "cell_type": "code",
   "execution_count": 8,
   "metadata": {
    "collapsed": false
   },
   "outputs": [],
   "source": [
    "X['YOB<%d'%X['YOB'].mean()] = [int(x<X['YOB'].mean()) for x in X['YOB']]\n",
    "X['YOB>%d'%X['YOB'].mean()] = [int(x>X['YOB'].mean()) for x in X['YOB']]"
   ]
  },
  {
   "cell_type": "code",
   "execution_count": 9,
   "metadata": {
    "collapsed": true
   },
   "outputs": [],
   "source": [
    "del X['YOB']"
   ]
  },
  {
   "cell_type": "markdown",
   "metadata": {},
   "source": [
    "## Model Fitting"
   ]
  },
  {
   "cell_type": "code",
   "execution_count": 10,
   "metadata": {
    "collapsed": false
   },
   "outputs": [],
   "source": [
    "X_train,X_test,Y_train,Y_test = train_test_split(X,Y,train_size=0.67,random_state = 3)"
   ]
  },
  {
   "cell_type": "code",
   "execution_count": 11,
   "metadata": {
    "collapsed": false
   },
   "outputs": [],
   "source": [
    "X_test.index = range(0,len(X_test))"
   ]
  },
  {
   "cell_type": "code",
   "execution_count": 12,
   "metadata": {
    "collapsed": true
   },
   "outputs": [],
   "source": [
    "clf = BernoulliNB()"
   ]
  },
  {
   "cell_type": "code",
   "execution_count": 13,
   "metadata": {
    "collapsed": true
   },
   "outputs": [],
   "source": [
    "clf.fit(X_train,Y_train)\n",
    "test_prob = clf.predict_proba(X_test)"
   ]
  },
  {
   "cell_type": "markdown",
   "metadata": {},
   "source": [
    "## Probability and Evidence Part"
   ]
  },
  {
   "cell_type": "code",
   "execution_count": 18,
   "metadata": {
    "collapsed": false
   },
   "outputs": [],
   "source": [
    "## Log Probabilities for feature value = 1\n",
    "pos_proba = clf.feature_log_prob_"
   ]
  },
  {
   "cell_type": "code",
   "execution_count": 19,
   "metadata": {
    "collapsed": false
   },
   "outputs": [],
   "source": [
    "## Class Probabilities\n",
    "class_prob = clf.class_log_prior_"
   ]
  },
  {
   "cell_type": "code",
   "execution_count": 20,
   "metadata": {
    "collapsed": true
   },
   "outputs": [],
   "source": [
    "## Log Probabilities for feature value = 0\n",
    "neg_prob = np.log(1-np.exp(clf.feature_log_prob_))"
   ]
  },
  {
   "cell_type": "code",
   "execution_count": 21,
   "metadata": {
    "collapsed": false
   },
   "outputs": [],
   "source": [
    "## Index of most positive and negative object with respect to the probabilities\n",
    "pos_obj_index = np.argmax(test_prob[:,0])\n",
    "neg_obj_index = np.argmax(test_prob[:,1])"
   ]
  },
  {
   "cell_type": "code",
   "execution_count": 22,
   "metadata": {
    "collapsed": false
   },
   "outputs": [
    {
     "data": {
      "text/plain": [
       "0.11271973369983712"
      ]
     },
     "execution_count": 22,
     "metadata": {},
     "output_type": "execute_result"
    }
   ],
   "source": [
    "## Difference Between Probabilities of Democrat and Republican Class\n",
    "class_prob[0] - class_prob[1]"
   ]
  },
  {
   "cell_type": "code",
   "execution_count": 23,
   "metadata": {
    "collapsed": true
   },
   "outputs": [],
   "source": [
    "total_pos_evi = {}\n",
    "total_neg_evi = {}\n",
    "pos_evi_feat = {}\n",
    "neg_evi_feat = {}"
   ]
  },
  {
   "cell_type": "code",
   "execution_count": 24,
   "metadata": {
    "collapsed": false
   },
   "outputs": [],
   "source": [
    "for i,r in X_test.iterrows():\n",
    "    ## Since the difference between Democrat and Republican Class is Positive we can add it to the Pos_evidence\n",
    "    pos_evd = class_prob[0] - class_prob[1]\n",
    "    neg_evd = 0\n",
    "    feat_pos = {}\n",
    "    feat_neg = {}\n",
    "    for j in range(0,len(r)):\n",
    "        if(r[j]==0):\n",
    "            if(neg_prob[0][j]-neg_prob[1][j]>0):\n",
    "                pos_evd += neg_prob[0][j] - neg_prob[1][j]\n",
    "                feat_pos[j] = neg_prob[0][j] - neg_prob[1][j]\n",
    "            if(neg_prob[0][j]-neg_prob[1][j]<0):\n",
    "                neg_evd += neg_prob[0][j] - neg_prob[1][j]\n",
    "                feat_neg[j] = neg_prob[0][j] - neg_prob[1][j]\n",
    "        if(r[j]==1):\n",
    "            if(pos_proba[0][j]-pos_proba[1][j]>0):\n",
    "                pos_evd += pos_proba[0][j] - pos_proba[1][j]\n",
    "                feat_pos[j] = pos_proba[0][j] - pos_proba[1][j]\n",
    "            if(pos_proba[0][j]-pos_proba[1][j]<0):\n",
    "                neg_evd += pos_proba[0][j] - pos_proba[1][j]\n",
    "                feat_neg[j] = pos_proba[0][j] - pos_proba[1][j]\n",
    "    pos_evi_feat[i] = feat_pos\n",
    "    neg_evi_feat[i] = feat_neg\n",
    "    total_pos_evi[i] = pos_evd\n",
    "    total_neg_evi[i] = neg_evd"
   ]
  },
  {
   "cell_type": "code",
   "execution_count": 25,
   "metadata": {
    "collapsed": false
   },
   "outputs": [],
   "source": [
    "largest_pos_evd = sorted(total_pos_evi, key=total_pos_evi.get,reverse=True)\n",
    "largest_neg_evd = sorted(total_neg_evi,key=total_neg_evi.get,reverse=True)"
   ]
  },
  {
   "cell_type": "code",
   "execution_count": 26,
   "metadata": {
    "collapsed": false
   },
   "outputs": [
    {
     "name": "stdout",
     "output_type": "stream",
     "text": [
      "(1464, 0.49980092339604293)\n",
      "(1464, 0.5001990766039609)\n"
     ]
    }
   ],
   "source": [
    "# The most uncertain object with respect to the probabilities\n",
    "print (min(enumerate(test_prob[:,0]),key=lambda x: abs(x[1]-0.5)))\n",
    "print (min(enumerate(test_prob[:,1]),key=lambda x: abs(x[1]-0.5)))"
   ]
  },
  {
   "cell_type": "markdown",
   "metadata": {
    "collapsed": true
   },
   "source": [
    "## 1. The most positive object with respect to the probabilities"
   ]
  },
  {
   "cell_type": "code",
   "execution_count": 27,
   "metadata": {
    "collapsed": false
   },
   "outputs": [
    {
     "data": {
      "text/plain": [
       "EducationLevel_Associate's Degree              1\n",
       "EducationLevel_Bachelor's Degree               0\n",
       "EducationLevel_Current K-12                    0\n",
       "EducationLevel_Current Undergraduate           0\n",
       "EducationLevel_Doctoral Degree                 0\n",
       "EducationLevel_High School Diploma             0\n",
       "EducationLevel_Master's Degree                 0\n",
       "Gender_Female                                  1\n",
       "Gender_Male                                    0\n",
       "HouseholdStatus_Domestic Partners (no kids)    0\n",
       "HouseholdStatus_Domestic Partners (w/kids)     0\n",
       "HouseholdStatus_Married (no kids)              0\n",
       "HouseholdStatus_Married (w/kids)               0\n",
       "HouseholdStatus_Single (no kids)               1\n",
       "HouseholdStatus_Single (w/kids)                0\n",
       "Income_$100,001 - $150,000                     0\n",
       "Income_$25,001 - $50,000                       0\n",
       "Income_$50,000 - $74,999                       0\n",
       "Income_$75,000 - $100,000                      0\n",
       "Income_over $150,000                           0\n",
       "Income_under $25,000                           1\n",
       "Q100010_No                                     1\n",
       "Q100010_Yes                                    0\n",
       "Q100562_No                                     0\n",
       "Q100562_Yes                                    1\n",
       "Q100680_No                                     0\n",
       "Q100680_Yes                                    1\n",
       "Q100689_No                                     0\n",
       "Q100689_Yes                                    1\n",
       "Q101162_Optimist                               0\n",
       "                                              ..\n",
       "Q123464_No                                     0\n",
       "Q123464_Yes                                    1\n",
       "Q123621_No                                     1\n",
       "Q123621_Yes                                    0\n",
       "Q124122_No                                     0\n",
       "Q124122_Yes                                    1\n",
       "Q124742_No                                     1\n",
       "Q124742_Yes                                    0\n",
       "Q96024_No                                      1\n",
       "Q96024_Yes                                     0\n",
       "Q98059_Only-child                              1\n",
       "Q98059_Yes                                     0\n",
       "Q98078_No                                      1\n",
       "Q98078_Yes                                     0\n",
       "Q98197_No                                      1\n",
       "Q98197_Yes                                     0\n",
       "Q98578_No                                      1\n",
       "Q98578_Yes                                     0\n",
       "Q98869_No                                      1\n",
       "Q98869_Yes                                     0\n",
       "Q99480_No                                      1\n",
       "Q99480_Yes                                     0\n",
       "Q99581_No                                      1\n",
       "Q99581_Yes                                     0\n",
       "Q99716_No                                      0\n",
       "Q99716_Yes                                     1\n",
       "Q99982_Check!                                  1\n",
       "Q99982_Nope                                    0\n",
       "YOB<1979                                       0\n",
       "YOB>1979                                       1\n",
       "Name: 1195, dtype: int64"
      ]
     },
     "execution_count": 27,
     "metadata": {},
     "output_type": "execute_result"
    }
   ],
   "source": [
    "X_test.iloc[pos_obj_index]"
   ]
  },
  {
   "cell_type": "markdown",
   "metadata": {},
   "source": [
    "### 1.1) the total positive log-evidence"
   ]
  },
  {
   "cell_type": "code",
   "execution_count": 28,
   "metadata": {
    "collapsed": false
   },
   "outputs": [
    {
     "name": "stdout",
     "output_type": "stream",
     "text": [
      "The total positive log-evidence: 12.338390\n"
     ]
    }
   ],
   "source": [
    "print (\"The total positive log-evidence: %f\"%total_pos_evi[pos_obj_index])"
   ]
  },
  {
   "cell_type": "markdown",
   "metadata": {},
   "source": [
    "### 1.2) the total negative log-evidence"
   ]
  },
  {
   "cell_type": "code",
   "execution_count": 29,
   "metadata": {
    "collapsed": false
   },
   "outputs": [
    {
     "name": "stdout",
     "output_type": "stream",
     "text": [
      "The total negative log-evidence: -2.638247\n"
     ]
    }
   ],
   "source": [
    "print (\"The total negative log-evidence: %f\"%total_neg_evi[pos_obj_index])"
   ]
  },
  {
   "cell_type": "markdown",
   "metadata": {},
   "source": [
    "### 1.3) Probability Distribution"
   ]
  },
  {
   "cell_type": "code",
   "execution_count": 30,
   "metadata": {
    "collapsed": false
   },
   "outputs": [
    {
     "name": "stdout",
     "output_type": "stream",
     "text": [
      "Class-1 Probability:0.999939\n",
      "Class-0 Probaility: 0.000061\n"
     ]
    }
   ],
   "source": [
    "print (\"Class-1 Probability:%f\"%test_prob[pos_obj_index][0])\n",
    "print (\"Class-0 Probaility: %f\"%test_prob[pos_obj_index][1])"
   ]
  },
  {
   "cell_type": "markdown",
   "metadata": {},
   "source": [
    "### 1.4) top 3 features values that contribute most to the positive evidence"
   ]
  },
  {
   "cell_type": "code",
   "execution_count": 31,
   "metadata": {
    "collapsed": false
   },
   "outputs": [],
   "source": [
    "top3_pos_feat_index = sorted(pos_evi_feat[pos_obj_index], key=pos_evi_feat[pos_obj_index].get,reverse=True)[0:3]"
   ]
  },
  {
   "cell_type": "code",
   "execution_count": 32,
   "metadata": {
    "collapsed": false
   },
   "outputs": [
    {
     "name": "stdout",
     "output_type": "stream",
     "text": [
      "First Feature: Q109244_No\n",
      "Second Feature: Q109244_Yes\n",
      "Third Feature: Q98869_Yes\n"
     ]
    }
   ],
   "source": [
    "print (\"First Feature: %s\"%X_test.columns[top3_pos_feat_index[0]])\n",
    "print (\"Second Feature: %s\"%X_test.columns[top3_pos_feat_index[1]])\n",
    "print (\"Third Feature: %s\"%X_test.columns[top3_pos_feat_index[2]])"
   ]
  },
  {
   "cell_type": "markdown",
   "metadata": {},
   "source": [
    "### 1.5) top 3 feature values that contribute the most to the negative evidence."
   ]
  },
  {
   "cell_type": "code",
   "execution_count": 33,
   "metadata": {
    "collapsed": true
   },
   "outputs": [],
   "source": [
    "top3_neg_feat_index = sorted(neg_evi_feat[pos_obj_index], key=neg_evi_feat[pos_obj_index].get,reverse=True)[0:3]"
   ]
  },
  {
   "cell_type": "code",
   "execution_count": 34,
   "metadata": {
    "collapsed": false,
    "scrolled": true
   },
   "outputs": [
    {
     "name": "stdout",
     "output_type": "stream",
     "text": [
      "First Feature: Income_$100,001 - $150,000\n",
      "Second Feature: EducationLevel_Doctoral Degree\n",
      "Third Feature: Q108343_Yes\n"
     ]
    }
   ],
   "source": [
    "print (\"First Feature: %s\"%X_test.columns[top3_neg_feat_index[0]])\n",
    "print (\"Second Feature: %s\"%X_test.columns[top3_neg_feat_index[1]])\n",
    "print (\"Third Feature: %s\"%X_test.columns[top3_neg_feat_index[2]])"
   ]
  },
  {
   "cell_type": "markdown",
   "metadata": {},
   "source": [
    "## 2) The most negative object with respect to the probabilities."
   ]
  },
  {
   "cell_type": "code",
   "execution_count": 35,
   "metadata": {
    "collapsed": false
   },
   "outputs": [
    {
     "data": {
      "text/plain": [
       "EducationLevel_Associate's Degree              0\n",
       "EducationLevel_Bachelor's Degree               1\n",
       "EducationLevel_Current K-12                    0\n",
       "EducationLevel_Current Undergraduate           0\n",
       "EducationLevel_Doctoral Degree                 0\n",
       "EducationLevel_High School Diploma             0\n",
       "EducationLevel_Master's Degree                 0\n",
       "Gender_Female                                  0\n",
       "Gender_Male                                    1\n",
       "HouseholdStatus_Domestic Partners (no kids)    0\n",
       "HouseholdStatus_Domestic Partners (w/kids)     0\n",
       "HouseholdStatus_Married (no kids)              0\n",
       "HouseholdStatus_Married (w/kids)               1\n",
       "HouseholdStatus_Single (no kids)               0\n",
       "HouseholdStatus_Single (w/kids)                0\n",
       "Income_$100,001 - $150,000                     0\n",
       "Income_$25,001 - $50,000                       0\n",
       "Income_$50,000 - $74,999                       0\n",
       "Income_$75,000 - $100,000                      0\n",
       "Income_over $150,000                           1\n",
       "Income_under $25,000                           0\n",
       "Q100010_No                                     0\n",
       "Q100010_Yes                                    1\n",
       "Q100562_No                                     0\n",
       "Q100562_Yes                                    1\n",
       "Q100680_No                                     1\n",
       "Q100680_Yes                                    0\n",
       "Q100689_No                                     0\n",
       "Q100689_Yes                                    1\n",
       "Q101162_Optimist                               1\n",
       "                                              ..\n",
       "Q123464_No                                     1\n",
       "Q123464_Yes                                    0\n",
       "Q123621_No                                     0\n",
       "Q123621_Yes                                    1\n",
       "Q124122_No                                     1\n",
       "Q124122_Yes                                    0\n",
       "Q124742_No                                     0\n",
       "Q124742_Yes                                    1\n",
       "Q96024_No                                      0\n",
       "Q96024_Yes                                     1\n",
       "Q98059_Only-child                              0\n",
       "Q98059_Yes                                     1\n",
       "Q98078_No                                      1\n",
       "Q98078_Yes                                     0\n",
       "Q98197_No                                      0\n",
       "Q98197_Yes                                     1\n",
       "Q98578_No                                      1\n",
       "Q98578_Yes                                     0\n",
       "Q98869_No                                      0\n",
       "Q98869_Yes                                     1\n",
       "Q99480_No                                      0\n",
       "Q99480_Yes                                     1\n",
       "Q99581_No                                      1\n",
       "Q99581_Yes                                     0\n",
       "Q99716_No                                      1\n",
       "Q99716_Yes                                     0\n",
       "Q99982_Check!                                  1\n",
       "Q99982_Nope                                    0\n",
       "YOB<1979                                       0\n",
       "YOB>1979                                       1\n",
       "Name: 1518, dtype: int64"
      ]
     },
     "execution_count": 35,
     "metadata": {},
     "output_type": "execute_result"
    }
   ],
   "source": [
    "X_test.iloc[neg_obj_index]"
   ]
  },
  {
   "cell_type": "markdown",
   "metadata": {},
   "source": [
    "### 2.1) the total positive log-evidence"
   ]
  },
  {
   "cell_type": "code",
   "execution_count": 36,
   "metadata": {
    "collapsed": false
   },
   "outputs": [
    {
     "name": "stdout",
     "output_type": "stream",
     "text": [
      "The total positive log-evidence: 2.676487\n"
     ]
    }
   ],
   "source": [
    "print (\"The total positive log-evidence: %f\"%total_pos_evi[neg_obj_index])"
   ]
  },
  {
   "cell_type": "markdown",
   "metadata": {},
   "source": [
    "### 2.2) the total negative log-evidence"
   ]
  },
  {
   "cell_type": "code",
   "execution_count": 37,
   "metadata": {
    "collapsed": false
   },
   "outputs": [
    {
     "name": "stdout",
     "output_type": "stream",
     "text": [
      "The total negative log-evidence: -12.011135\n"
     ]
    }
   ],
   "source": [
    "print (\"The total negative log-evidence: %f\"%total_neg_evi[neg_obj_index])"
   ]
  },
  {
   "cell_type": "markdown",
   "metadata": {},
   "source": [
    "### 2.3) Probability Distribution"
   ]
  },
  {
   "cell_type": "code",
   "execution_count": 38,
   "metadata": {
    "collapsed": false
   },
   "outputs": [
    {
     "name": "stdout",
     "output_type": "stream",
     "text": [
      "Class-1 Probability:0.000088\n",
      "Class-0 Probaility: 0.999912\n"
     ]
    }
   ],
   "source": [
    "print (\"Class-1 Probability:%f\"%test_prob[neg_obj_index][0])\n",
    "print (\"Class-0 Probaility: %f\"%test_prob[neg_obj_index][1])"
   ]
  },
  {
   "cell_type": "markdown",
   "metadata": {},
   "source": [
    "### 2.4) top 3 features values that contribute most to the positive evidence"
   ]
  },
  {
   "cell_type": "code",
   "execution_count": 39,
   "metadata": {
    "collapsed": false
   },
   "outputs": [],
   "source": [
    "top3_pos_feat_index = sorted(pos_evi_feat[neg_obj_index], key=pos_evi_feat[neg_obj_index].get,reverse=True)[0:3]"
   ]
  },
  {
   "cell_type": "code",
   "execution_count": 40,
   "metadata": {
    "collapsed": false
   },
   "outputs": [
    {
     "name": "stdout",
     "output_type": "stream",
     "text": [
      "First Feature: Q120012_No\n",
      "Second Feature: Q120012_Yes\n",
      "Third Feature: Q110740_PC\n"
     ]
    }
   ],
   "source": [
    "print (\"First Feature: %s\"%X_test.columns[top3_pos_feat_index[0]])\n",
    "print (\"Second Feature: %s\"%X_test.columns[top3_pos_feat_index[1]])\n",
    "print (\"Third Feature: %s\"%X_test.columns[top3_pos_feat_index[2]])"
   ]
  },
  {
   "cell_type": "markdown",
   "metadata": {},
   "source": [
    "### 2.5) top 3 feature values that contribute the most to the negative evidence."
   ]
  },
  {
   "cell_type": "code",
   "execution_count": 41,
   "metadata": {
    "collapsed": true
   },
   "outputs": [],
   "source": [
    "top3_neg_feat_index = sorted(neg_evi_feat[neg_obj_index], key=neg_evi_feat[neg_obj_index].get,reverse=True)[0:3]"
   ]
  },
  {
   "cell_type": "code",
   "execution_count": 42,
   "metadata": {
    "collapsed": false
   },
   "outputs": [
    {
     "name": "stdout",
     "output_type": "stream",
     "text": [
      "First Feature: Income_$100,001 - $150,000\n",
      "Second Feature: EducationLevel_Doctoral Degree\n",
      "Third Feature: Q108343_Yes\n"
     ]
    }
   ],
   "source": [
    "print (\"First Feature: %s\"%X_test.columns[top3_neg_feat_index[0]])\n",
    "print (\"Second Feature: %s\"%X_test.columns[top3_neg_feat_index[1]])\n",
    "print (\"Third Feature: %s\"%X_test.columns[top3_neg_feat_index[2]])"
   ]
  },
  {
   "cell_type": "markdown",
   "metadata": {},
   "source": [
    "## 3) The object that has the largest positive evidence."
   ]
  },
  {
   "cell_type": "code",
   "execution_count": 43,
   "metadata": {
    "collapsed": false
   },
   "outputs": [],
   "source": [
    "largest_pos_evd = sorted(total_pos_evi, key=total_pos_evi.get,reverse=True)\n",
    "largest_pos_evd_index = largest_pos_evd[0]\n",
    "largest_pos_evd_obj = X_test.iloc[largest_pos_evd[0]]"
   ]
  },
  {
   "cell_type": "code",
   "execution_count": 44,
   "metadata": {
    "collapsed": false
   },
   "outputs": [
    {
     "data": {
      "text/plain": [
       "EducationLevel_Associate's Degree              0\n",
       "EducationLevel_Bachelor's Degree               0\n",
       "EducationLevel_Current K-12                    0\n",
       "EducationLevel_Current Undergraduate           0\n",
       "EducationLevel_Doctoral Degree                 0\n",
       "EducationLevel_High School Diploma             0\n",
       "EducationLevel_Master's Degree                 1\n",
       "Gender_Female                                  1\n",
       "Gender_Male                                    0\n",
       "HouseholdStatus_Domestic Partners (no kids)    0\n",
       "HouseholdStatus_Domestic Partners (w/kids)     0\n",
       "HouseholdStatus_Married (no kids)              0\n",
       "HouseholdStatus_Married (w/kids)               0\n",
       "HouseholdStatus_Single (no kids)               1\n",
       "HouseholdStatus_Single (w/kids)                0\n",
       "Income_$100,001 - $150,000                     0\n",
       "Income_$25,001 - $50,000                       0\n",
       "Income_$50,000 - $74,999                       1\n",
       "Income_$75,000 - $100,000                      0\n",
       "Income_over $150,000                           0\n",
       "Income_under $25,000                           0\n",
       "Q100010_No                                     0\n",
       "Q100010_Yes                                    1\n",
       "Q100562_No                                     0\n",
       "Q100562_Yes                                    1\n",
       "Q100680_No                                     0\n",
       "Q100680_Yes                                    1\n",
       "Q100689_No                                     0\n",
       "Q100689_Yes                                    1\n",
       "Q101162_Optimist                               1\n",
       "                                              ..\n",
       "Q123464_No                                     1\n",
       "Q123464_Yes                                    0\n",
       "Q123621_No                                     0\n",
       "Q123621_Yes                                    1\n",
       "Q124122_No                                     0\n",
       "Q124122_Yes                                    1\n",
       "Q124742_No                                     1\n",
       "Q124742_Yes                                    0\n",
       "Q96024_No                                      0\n",
       "Q96024_Yes                                     1\n",
       "Q98059_Only-child                              0\n",
       "Q98059_Yes                                     1\n",
       "Q98078_No                                      0\n",
       "Q98078_Yes                                     1\n",
       "Q98197_No                                      1\n",
       "Q98197_Yes                                     0\n",
       "Q98578_No                                      1\n",
       "Q98578_Yes                                     0\n",
       "Q98869_No                                      1\n",
       "Q98869_Yes                                     0\n",
       "Q99480_No                                      1\n",
       "Q99480_Yes                                     0\n",
       "Q99581_No                                      1\n",
       "Q99581_Yes                                     0\n",
       "Q99716_No                                      0\n",
       "Q99716_Yes                                     1\n",
       "Q99982_Check!                                  1\n",
       "Q99982_Nope                                    0\n",
       "YOB<1979                                       0\n",
       "YOB>1979                                       1\n",
       "Name: 857, dtype: int64"
      ]
     },
     "execution_count": 44,
     "metadata": {},
     "output_type": "execute_result"
    }
   ],
   "source": [
    "largest_pos_evd_obj"
   ]
  },
  {
   "cell_type": "markdown",
   "metadata": {},
   "source": [
    "### 3.1) the total positive log-evidence"
   ]
  },
  {
   "cell_type": "code",
   "execution_count": 45,
   "metadata": {
    "collapsed": false
   },
   "outputs": [
    {
     "name": "stdout",
     "output_type": "stream",
     "text": [
      "The total positive log-evidence: 12.607412\n"
     ]
    }
   ],
   "source": [
    "print (\"The total positive log-evidence: %f\"%total_pos_evi[largest_pos_evd_index])"
   ]
  },
  {
   "cell_type": "markdown",
   "metadata": {},
   "source": [
    "### 3.2) the total negative log-evidence"
   ]
  },
  {
   "cell_type": "code",
   "execution_count": 46,
   "metadata": {
    "collapsed": false
   },
   "outputs": [
    {
     "name": "stdout",
     "output_type": "stream",
     "text": [
      "The total negative log-evidence: -4.112884\n"
     ]
    }
   ],
   "source": [
    "print (\"The total negative log-evidence: %f\"%total_neg_evi[largest_pos_evd_index])"
   ]
  },
  {
   "cell_type": "markdown",
   "metadata": {},
   "source": [
    "### 3.3) Probability Distribution"
   ]
  },
  {
   "cell_type": "code",
   "execution_count": 47,
   "metadata": {
    "collapsed": false
   },
   "outputs": [
    {
     "name": "stdout",
     "output_type": "stream",
     "text": [
      "Class-1 Probability:0.999795\n",
      "Class-0 Probaility: 0.000205\n"
     ]
    }
   ],
   "source": [
    "print (\"Class-1 Probability:%f\"%test_prob[largest_pos_evd_index][0])\n",
    "print (\"Class-0 Probaility: %f\"%test_prob[largest_pos_evd_index][1])"
   ]
  },
  {
   "cell_type": "markdown",
   "metadata": {},
   "source": [
    "### 3.4) top 3 features values that contribute most to the positive evidence"
   ]
  },
  {
   "cell_type": "code",
   "execution_count": 48,
   "metadata": {
    "collapsed": true
   },
   "outputs": [],
   "source": [
    "top3_pos_feat_index = sorted(pos_evi_feat[largest_pos_evd_index], key=pos_evi_feat[largest_pos_evd_index].get,reverse=True)[0:3]"
   ]
  },
  {
   "cell_type": "code",
   "execution_count": 49,
   "metadata": {
    "collapsed": false
   },
   "outputs": [
    {
     "name": "stdout",
     "output_type": "stream",
     "text": [
      "First Feature: Q109244_No\n",
      "Second Feature: Q109244_Yes\n",
      "Third Feature: Q98869_Yes\n"
     ]
    }
   ],
   "source": [
    "print (\"First Feature: %s\"%X_test.columns[top3_pos_feat_index[0]])\n",
    "print (\"Second Feature: %s\"%X_test.columns[top3_pos_feat_index[1]])\n",
    "print (\"Third Feature: %s\"%X_test.columns[top3_pos_feat_index[2]])"
   ]
  },
  {
   "cell_type": "markdown",
   "metadata": {},
   "source": [
    "### 3.5) top 3 feature values that contribute the most to the negative evidence."
   ]
  },
  {
   "cell_type": "code",
   "execution_count": 50,
   "metadata": {
    "collapsed": true
   },
   "outputs": [],
   "source": [
    "top3_neg_feat_index = sorted(neg_evi_feat[largest_pos_evd_index], key=neg_evi_feat[largest_pos_evd_index].get,reverse=True)[0:3]"
   ]
  },
  {
   "cell_type": "code",
   "execution_count": 51,
   "metadata": {
    "collapsed": false
   },
   "outputs": [
    {
     "name": "stdout",
     "output_type": "stream",
     "text": [
      "First Feature: Income_$100,001 - $150,000\n",
      "Second Feature: EducationLevel_Doctoral Degree\n",
      "Third Feature: Q108343_Yes\n"
     ]
    }
   ],
   "source": [
    "print (\"First Feature: %s\"%X_test.columns[top3_neg_feat_index[0]])\n",
    "print (\"Second Feature: %s\"%X_test.columns[top3_neg_feat_index[1]])\n",
    "print (\"Third Feature: %s\"%X_test.columns[top3_neg_feat_index[2]])"
   ]
  },
  {
   "cell_type": "markdown",
   "metadata": {},
   "source": [
    "## 4) The object that has the largest (in magnitude) negative evidence."
   ]
  },
  {
   "cell_type": "code",
   "execution_count": 52,
   "metadata": {
    "collapsed": true
   },
   "outputs": [],
   "source": [
    "largest_neg_evd = sorted(total_neg_evi, key=total_neg_evi.get,reverse=True)\n",
    "largest_neg_evd_index = largest_neg_evd[0]\n",
    "largest_neg_evd_obj = X_test.iloc[largest_neg_evd[0]]"
   ]
  },
  {
   "cell_type": "code",
   "execution_count": 53,
   "metadata": {
    "collapsed": false
   },
   "outputs": [
    {
     "data": {
      "text/plain": [
       "EducationLevel_Associate's Degree              0\n",
       "EducationLevel_Bachelor's Degree               1\n",
       "EducationLevel_Current K-12                    0\n",
       "EducationLevel_Current Undergraduate           0\n",
       "EducationLevel_Doctoral Degree                 0\n",
       "EducationLevel_High School Diploma             0\n",
       "EducationLevel_Master's Degree                 0\n",
       "Gender_Female                                  1\n",
       "Gender_Male                                    0\n",
       "HouseholdStatus_Domestic Partners (no kids)    0\n",
       "HouseholdStatus_Domestic Partners (w/kids)     0\n",
       "HouseholdStatus_Married (no kids)              0\n",
       "HouseholdStatus_Married (w/kids)               0\n",
       "HouseholdStatus_Single (no kids)               1\n",
       "HouseholdStatus_Single (w/kids)                0\n",
       "Income_$100,001 - $150,000                     0\n",
       "Income_$25,001 - $50,000                       0\n",
       "Income_$50,000 - $74,999                       0\n",
       "Income_$75,000 - $100,000                      0\n",
       "Income_over $150,000                           0\n",
       "Income_under $25,000                           1\n",
       "Q100010_No                                     0\n",
       "Q100010_Yes                                    1\n",
       "Q100562_No                                     0\n",
       "Q100562_Yes                                    1\n",
       "Q100680_No                                     0\n",
       "Q100680_Yes                                    1\n",
       "Q100689_No                                     0\n",
       "Q100689_Yes                                    1\n",
       "Q101162_Optimist                               1\n",
       "                                              ..\n",
       "Q123464_No                                     1\n",
       "Q123464_Yes                                    0\n",
       "Q123621_No                                     1\n",
       "Q123621_Yes                                    0\n",
       "Q124122_No                                     0\n",
       "Q124122_Yes                                    1\n",
       "Q124742_No                                     1\n",
       "Q124742_Yes                                    0\n",
       "Q96024_No                                      0\n",
       "Q96024_Yes                                     1\n",
       "Q98059_Only-child                              0\n",
       "Q98059_Yes                                     1\n",
       "Q98078_No                                      1\n",
       "Q98078_Yes                                     0\n",
       "Q98197_No                                      1\n",
       "Q98197_Yes                                     0\n",
       "Q98578_No                                      1\n",
       "Q98578_Yes                                     0\n",
       "Q98869_No                                      0\n",
       "Q98869_Yes                                     1\n",
       "Q99480_No                                      0\n",
       "Q99480_Yes                                     1\n",
       "Q99581_No                                      1\n",
       "Q99581_Yes                                     0\n",
       "Q99716_No                                      1\n",
       "Q99716_Yes                                     0\n",
       "Q99982_Check!                                  1\n",
       "Q99982_Nope                                    0\n",
       "YOB<1979                                       0\n",
       "YOB>1979                                       1\n",
       "Name: 1461, dtype: int64"
      ]
     },
     "execution_count": 53,
     "metadata": {},
     "output_type": "execute_result"
    }
   ],
   "source": [
    "largest_neg_evd_obj"
   ]
  },
  {
   "cell_type": "markdown",
   "metadata": {},
   "source": [
    "### 4.1)  the total positive log-evidence"
   ]
  },
  {
   "cell_type": "code",
   "execution_count": 54,
   "metadata": {
    "collapsed": false
   },
   "outputs": [
    {
     "name": "stdout",
     "output_type": "stream",
     "text": [
      "The total positive log-evidence: 8.616982\n"
     ]
    }
   ],
   "source": [
    "print (\"The total positive log-evidence: %f\"%total_pos_evi[largest_neg_evd_index])"
   ]
  },
  {
   "cell_type": "markdown",
   "metadata": {},
   "source": [
    "### 4.2) the total negative log-evidence"
   ]
  },
  {
   "cell_type": "code",
   "execution_count": 55,
   "metadata": {
    "collapsed": false
   },
   "outputs": [
    {
     "name": "stdout",
     "output_type": "stream",
     "text": [
      "The total negative log-evidence: -1.910867\n"
     ]
    }
   ],
   "source": [
    "print (\"The total negative log-evidence: %f\"%total_neg_evi[largest_neg_evd_index])"
   ]
  },
  {
   "cell_type": "markdown",
   "metadata": {},
   "source": [
    "### 4.3) Probability Distribution"
   ]
  },
  {
   "cell_type": "code",
   "execution_count": 56,
   "metadata": {
    "collapsed": false
   },
   "outputs": [
    {
     "name": "stdout",
     "output_type": "stream",
     "text": [
      "Class-1 Probability:0.998778\n",
      "Class-0 Probaility: 0.001222\n"
     ]
    }
   ],
   "source": [
    "print (\"Class-1 Probability:%f\"%test_prob[largest_neg_evd_index][0])\n",
    "print (\"Class-0 Probaility: %f\"%test_prob[largest_neg_evd_index][1])"
   ]
  },
  {
   "cell_type": "markdown",
   "metadata": {},
   "source": [
    "### 4.4) top 3 features values that contribute most to the positive evidence"
   ]
  },
  {
   "cell_type": "code",
   "execution_count": 57,
   "metadata": {
    "collapsed": true
   },
   "outputs": [],
   "source": [
    "top3_pos_feat_index = sorted(pos_evi_feat[largest_neg_evd_index], key=pos_evi_feat[largest_neg_evd_index].get,reverse=True)[0:3]"
   ]
  },
  {
   "cell_type": "code",
   "execution_count": 58,
   "metadata": {
    "collapsed": false
   },
   "outputs": [
    {
     "name": "stdout",
     "output_type": "stream",
     "text": [
      "First Feature: Q109244_No\n",
      "Second Feature: Q109244_Yes\n",
      "Third Feature: Gender_Male\n"
     ]
    }
   ],
   "source": [
    "print (\"First Feature: %s\"%X_test.columns[top3_pos_feat_index[0]])\n",
    "print (\"Second Feature: %s\"%X_test.columns[top3_pos_feat_index[1]])\n",
    "print (\"Third Feature: %s\"%X_test.columns[top3_pos_feat_index[2]])"
   ]
  },
  {
   "cell_type": "markdown",
   "metadata": {},
   "source": [
    "### 4.5) top 3 feature values that contribute the most to the negative evidence."
   ]
  },
  {
   "cell_type": "code",
   "execution_count": 59,
   "metadata": {
    "collapsed": false
   },
   "outputs": [
    {
     "name": "stdout",
     "output_type": "stream",
     "text": [
      "First Feature: Income_$100,001 - $150,000\n",
      "Second Feature: EducationLevel_Doctoral Degree\n",
      "Third Feature: Q111580_Supportive\n"
     ]
    }
   ],
   "source": [
    "top3_neg_feat_index = sorted(neg_evi_feat[largest_neg_evd_index], key=neg_evi_feat[largest_neg_evd_index].get,reverse=True)[0:3]\n",
    "print (\"First Feature: %s\"%X_test.columns[top3_neg_feat_index[0]])\n",
    "print (\"Second Feature: %s\"%X_test.columns[top3_neg_feat_index[1]])\n",
    "print (\"Third Feature: %s\"%X_test.columns[top3_neg_feat_index[2]])"
   ]
  },
  {
   "cell_type": "markdown",
   "metadata": {},
   "source": [
    "## 5) The most uncertain object (the probabilities are closest to 0.5)"
   ]
  },
  {
   "cell_type": "code",
   "execution_count": 60,
   "metadata": {
    "collapsed": false
   },
   "outputs": [
    {
     "name": "stdout",
     "output_type": "stream",
     "text": [
      "(1464, 0.49980092339604293)\n",
      "(1464, 0.5001990766039609)\n"
     ]
    }
   ],
   "source": [
    "# The most uncertain object with respect to the probabilities\n",
    "print (min(enumerate(test_prob[:,0]),key=lambda x: abs(x[1]-0.5)))\n",
    "print (min(enumerate(test_prob[:,1]),key=lambda x: abs(x[1]-0.5)))"
   ]
  },
  {
   "cell_type": "code",
   "execution_count": 61,
   "metadata": {
    "collapsed": false
   },
   "outputs": [
    {
     "data": {
      "text/plain": [
       "EducationLevel_Associate's Degree              0\n",
       "EducationLevel_Bachelor's Degree               0\n",
       "EducationLevel_Current K-12                    0\n",
       "EducationLevel_Current Undergraduate           0\n",
       "EducationLevel_Doctoral Degree                 0\n",
       "EducationLevel_High School Diploma             0\n",
       "EducationLevel_Master's Degree                 1\n",
       "Gender_Female                                  0\n",
       "Gender_Male                                    1\n",
       "HouseholdStatus_Domestic Partners (no kids)    0\n",
       "HouseholdStatus_Domestic Partners (w/kids)     0\n",
       "HouseholdStatus_Married (no kids)              0\n",
       "HouseholdStatus_Married (w/kids)               1\n",
       "HouseholdStatus_Single (no kids)               0\n",
       "HouseholdStatus_Single (w/kids)                0\n",
       "Income_$100,001 - $150,000                     0\n",
       "Income_$25,001 - $50,000                       0\n",
       "Income_$50,000 - $74,999                       0\n",
       "Income_$75,000 - $100,000                      0\n",
       "Income_over $150,000                           1\n",
       "Income_under $25,000                           0\n",
       "Q100010_No                                     0\n",
       "Q100010_Yes                                    1\n",
       "Q100562_No                                     0\n",
       "Q100562_Yes                                    1\n",
       "Q100680_No                                     1\n",
       "Q100680_Yes                                    0\n",
       "Q100689_No                                     1\n",
       "Q100689_Yes                                    0\n",
       "Q101162_Optimist                               1\n",
       "                                              ..\n",
       "Q123464_No                                     1\n",
       "Q123464_Yes                                    0\n",
       "Q123621_No                                     0\n",
       "Q123621_Yes                                    1\n",
       "Q124122_No                                     0\n",
       "Q124122_Yes                                    1\n",
       "Q124742_No                                     1\n",
       "Q124742_Yes                                    0\n",
       "Q96024_No                                      0\n",
       "Q96024_Yes                                     1\n",
       "Q98059_Only-child                              0\n",
       "Q98059_Yes                                     1\n",
       "Q98078_No                                      1\n",
       "Q98078_Yes                                     0\n",
       "Q98197_No                                      1\n",
       "Q98197_Yes                                     0\n",
       "Q98578_No                                      1\n",
       "Q98578_Yes                                     0\n",
       "Q98869_No                                      0\n",
       "Q98869_Yes                                     1\n",
       "Q99480_No                                      0\n",
       "Q99480_Yes                                     1\n",
       "Q99581_No                                      1\n",
       "Q99581_Yes                                     0\n",
       "Q99716_No                                      1\n",
       "Q99716_Yes                                     0\n",
       "Q99982_Check!                                  1\n",
       "Q99982_Nope                                    0\n",
       "YOB<1979                                       1\n",
       "YOB>1979                                       0\n",
       "Name: 1464, dtype: int64"
      ]
     },
     "execution_count": 61,
     "metadata": {},
     "output_type": "execute_result"
    }
   ],
   "source": [
    "X_test.iloc[1464]"
   ]
  },
  {
   "cell_type": "markdown",
   "metadata": {},
   "source": [
    "### 5.1) the total positive log-evidence"
   ]
  },
  {
   "cell_type": "code",
   "execution_count": 62,
   "metadata": {
    "collapsed": false
   },
   "outputs": [
    {
     "name": "stdout",
     "output_type": "stream",
     "text": [
      "The total positive log-evidence: 4.919405\n"
     ]
    }
   ],
   "source": [
    "print (\"The total positive log-evidence: %f\"%total_pos_evi[828])"
   ]
  },
  {
   "cell_type": "markdown",
   "metadata": {},
   "source": [
    "### 5.2) the total negative log-evidence"
   ]
  },
  {
   "cell_type": "code",
   "execution_count": 63,
   "metadata": {
    "collapsed": false
   },
   "outputs": [
    {
     "name": "stdout",
     "output_type": "stream",
     "text": [
      "The total negative log-evidence: -4.937221\n"
     ]
    }
   ],
   "source": [
    "print (\"The total negative log-evidence: %f\"%total_neg_evi[828])"
   ]
  },
  {
   "cell_type": "markdown",
   "metadata": {},
   "source": [
    "### 5.3) Probability Distribution"
   ]
  },
  {
   "cell_type": "code",
   "execution_count": 64,
   "metadata": {
    "collapsed": false
   },
   "outputs": [
    {
     "name": "stdout",
     "output_type": "stream",
     "text": [
      "Class-1 Probability:0.495546\n",
      "Class-0 Probaility: 0.504454\n"
     ]
    }
   ],
   "source": [
    "print (\"Class-1 Probability:%f\"%test_prob[828][0])\n",
    "print (\"Class-0 Probaility: %f\"%test_prob[828][1])"
   ]
  },
  {
   "cell_type": "markdown",
   "metadata": {},
   "source": [
    "### 5.4) top 3 features values that contribute most to the positive evidence"
   ]
  },
  {
   "cell_type": "code",
   "execution_count": 65,
   "metadata": {
    "collapsed": true
   },
   "outputs": [],
   "source": [
    "top3_pos_feat_index = sorted(pos_evi_feat[828], key=pos_evi_feat[828].get,reverse=True)[0:3]"
   ]
  },
  {
   "cell_type": "code",
   "execution_count": 66,
   "metadata": {
    "collapsed": false
   },
   "outputs": [
    {
     "name": "stdout",
     "output_type": "stream",
     "text": [
      "First Feature: Q101163_Dad\n",
      "Second Feature: Q101163_Mom\n",
      "Third Feature: EducationLevel_Current Undergraduate\n"
     ]
    }
   ],
   "source": [
    "print (\"First Feature: %s\"%X_test.columns[top3_pos_feat_index[0]])\n",
    "print (\"Second Feature: %s\"%X_test.columns[top3_pos_feat_index[1]])\n",
    "print (\"Third Feature: %s\"%X_test.columns[top3_pos_feat_index[2]])"
   ]
  },
  {
   "cell_type": "markdown",
   "metadata": {},
   "source": [
    "### 5.5) top 3 feature values that contribute the most to the negative evidence."
   ]
  },
  {
   "cell_type": "code",
   "execution_count": 67,
   "metadata": {
    "collapsed": false
   },
   "outputs": [
    {
     "name": "stdout",
     "output_type": "stream",
     "text": [
      "First Feature: Income_$100,001 - $150,000\n",
      "Second Feature: EducationLevel_Doctoral Degree\n",
      "Third Feature: Q108343_Yes\n"
     ]
    }
   ],
   "source": [
    "top3_neg_feat_index = sorted(neg_evi_feat[828], key=neg_evi_feat[828].get,reverse=True)[0:3]\n",
    "print (\"First Feature: %s\"%X_test.columns[top3_neg_feat_index[0]])\n",
    "print (\"Second Feature: %s\"%X_test.columns[top3_neg_feat_index[1]])\n",
    "print (\"Third Feature: %s\"%X_test.columns[top3_neg_feat_index[2]])"
   ]
  },
  {
   "cell_type": "code",
   "execution_count": 68,
   "metadata": {
    "collapsed": true
   },
   "outputs": [],
   "source": [
    "## End of Ipython Notebook"
   ]
  }
 ],
 "metadata": {
  "anaconda-cloud": {},
  "kernelspec": {
   "display_name": "Python [Root]",
   "language": "python",
   "name": "Python [Root]"
  },
  "language_info": {
   "codemirror_mode": {
    "name": "ipython",
    "version": 3
   },
   "file_extension": ".py",
   "mimetype": "text/x-python",
   "name": "python",
   "nbconvert_exporter": "python",
   "pygments_lexer": "ipython3",
   "version": "3.5.2"
  }
 },
 "nbformat": 4,
 "nbformat_minor": 0
}
