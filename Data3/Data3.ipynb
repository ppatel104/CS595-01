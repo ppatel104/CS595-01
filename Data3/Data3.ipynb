{
 "cells": [
  {
   "cell_type": "markdown",
   "metadata": {},
   "source": [
    "# Data 3\n",
    "## Bank Marketing Data Set (https://archive.ics.uci.edu/ml/datasets/Bank+Marketing)\n",
    "## Description: The data is related with direct marketing campaigns of a Portuguese banking institution. The marketing campaigns were based on phone calls. Often, more than one contact to the same client was required, in order to access if the product (bank term deposit) would be ('yes') or not ('no') subscribed. The dataset has total 20 features, and the target variable is a binary variable(yes/no) indicating whether the client subscribed a term deposit or not.\n",
    "## Attributes:\n",
    "\n",
    "### 1 - age (numeric)\n",
    "### 2 - job : type of job (categorical: 'admin.','blue-collar','entrepreneur','housemaid','management','retired','self-employed','services','student','technician','unemployed','unknown')\n",
    "### 3 - marital : marital status (categorical: 'divorced','married','single','unknown'; note: 'divorced' means divorced or widowed)\n",
    "### 4 - education (categorical: 'basic.4y','basic.6y','basic.9y','high.school','illiterate','professional.course','university.degree','unknown')\n",
    "### 5 - default: has credit in default? (categorical: 'no','yes','unknown')\n",
    "### 6 - housing: has housing loan? (categorical: 'no','yes','unknown')\n",
    "### 7 - loan: has personal loan? (categorical: 'no','yes','unknown')\n",
    "### 8 - contact: contact communication type (categorical: 'cellular','telephone') \n",
    "### 9 - month: last contact month of year (categorical: 'jan', 'feb', 'mar', ..., 'nov', 'dec')\n",
    "### 10 - day_of_week: last contact day of the week (categorical: 'mon','tue','wed','thu','fri')\n",
    "### 11 - duration: last contact duration, in seconds (numeric). Important note: this attribute highly affects the output target (e.g., if duration=0 then y='no'). Yet, the duration is not known before a call is performed. Also, after the end of the call y is obviously known. Thus, this input should only be included for benchmark purposes and should be discarded if the intention is to have a realistic predictive model.\n",
    "### 12 - campaign: number of contacts performed during this campaign and for this client (numeric, includes last contact)\n",
    "### 13 - pdays: number of days that passed by after the client was last contacted from a previous campaign (numeric; 999 means client was not previously contacted)\n",
    "### 14 - previous: number of contacts performed before this campaign and for this client (numeric)\n",
    "### 15 - poutcome: outcome of the previous marketing campaign (categorical: 'failure','nonexistent','success')"
   ]
  },
  {
   "cell_type": "code",
   "execution_count": 55,
   "metadata": {
    "collapsed": true
   },
   "outputs": [],
   "source": [
    "import pandas as pd\n",
    "import numpy as np"
   ]
  },
  {
   "cell_type": "code",
   "execution_count": 56,
   "metadata": {
    "collapsed": false
   },
   "outputs": [],
   "source": [
    "data = pd.read_csv(\"bank-full.csv\",sep=';')"
   ]
  },
  {
   "cell_type": "code",
   "execution_count": 57,
   "metadata": {
    "collapsed": false
   },
   "outputs": [
    {
     "name": "stdout",
     "output_type": "stream",
     "text": [
      "<class 'pandas.core.frame.DataFrame'>\n",
      "RangeIndex: 45211 entries, 0 to 45210\n",
      "Data columns (total 17 columns):\n",
      "age          45211 non-null int64\n",
      "job          45211 non-null object\n",
      "marital      45211 non-null object\n",
      "education    45211 non-null object\n",
      "default      45211 non-null object\n",
      "balance      45211 non-null int64\n",
      "housing      45211 non-null object\n",
      "loan         45211 non-null object\n",
      "contact      45211 non-null object\n",
      "day          45211 non-null int64\n",
      "month        45211 non-null object\n",
      "duration     45211 non-null int64\n",
      "campaign     45211 non-null int64\n",
      "pdays        45211 non-null int64\n",
      "previous     45211 non-null int64\n",
      "poutcome     45211 non-null object\n",
      "y            45211 non-null object\n",
      "dtypes: int64(7), object(10)\n",
      "memory usage: 5.9+ MB\n"
     ]
    }
   ],
   "source": [
    "data.info()"
   ]
  },
  {
   "cell_type": "code",
   "execution_count": 58,
   "metadata": {
    "collapsed": false
   },
   "outputs": [
    {
     "data": {
      "text/plain": [
       "(45211, 17)"
      ]
     },
     "execution_count": 58,
     "metadata": {},
     "output_type": "execute_result"
    }
   ],
   "source": [
    "data.shape"
   ]
  },
  {
   "cell_type": "code",
   "execution_count": 59,
   "metadata": {
    "collapsed": false
   },
   "outputs": [
    {
     "data": {
      "text/html": [
       "<div>\n",
       "<table border=\"1\" class=\"dataframe\">\n",
       "  <thead>\n",
       "    <tr style=\"text-align: right;\">\n",
       "      <th></th>\n",
       "      <th>age</th>\n",
       "      <th>job</th>\n",
       "      <th>marital</th>\n",
       "      <th>education</th>\n",
       "      <th>default</th>\n",
       "      <th>balance</th>\n",
       "      <th>housing</th>\n",
       "      <th>loan</th>\n",
       "      <th>contact</th>\n",
       "      <th>day</th>\n",
       "      <th>month</th>\n",
       "      <th>duration</th>\n",
       "      <th>campaign</th>\n",
       "      <th>pdays</th>\n",
       "      <th>previous</th>\n",
       "      <th>poutcome</th>\n",
       "      <th>y</th>\n",
       "    </tr>\n",
       "  </thead>\n",
       "  <tbody>\n",
       "    <tr>\n",
       "      <th>0</th>\n",
       "      <td>58</td>\n",
       "      <td>management</td>\n",
       "      <td>married</td>\n",
       "      <td>tertiary</td>\n",
       "      <td>no</td>\n",
       "      <td>2143</td>\n",
       "      <td>yes</td>\n",
       "      <td>no</td>\n",
       "      <td>unknown</td>\n",
       "      <td>5</td>\n",
       "      <td>may</td>\n",
       "      <td>261</td>\n",
       "      <td>1</td>\n",
       "      <td>-1</td>\n",
       "      <td>0</td>\n",
       "      <td>unknown</td>\n",
       "      <td>no</td>\n",
       "    </tr>\n",
       "    <tr>\n",
       "      <th>1</th>\n",
       "      <td>44</td>\n",
       "      <td>technician</td>\n",
       "      <td>single</td>\n",
       "      <td>secondary</td>\n",
       "      <td>no</td>\n",
       "      <td>29</td>\n",
       "      <td>yes</td>\n",
       "      <td>no</td>\n",
       "      <td>unknown</td>\n",
       "      <td>5</td>\n",
       "      <td>may</td>\n",
       "      <td>151</td>\n",
       "      <td>1</td>\n",
       "      <td>-1</td>\n",
       "      <td>0</td>\n",
       "      <td>unknown</td>\n",
       "      <td>no</td>\n",
       "    </tr>\n",
       "    <tr>\n",
       "      <th>2</th>\n",
       "      <td>33</td>\n",
       "      <td>entrepreneur</td>\n",
       "      <td>married</td>\n",
       "      <td>secondary</td>\n",
       "      <td>no</td>\n",
       "      <td>2</td>\n",
       "      <td>yes</td>\n",
       "      <td>yes</td>\n",
       "      <td>unknown</td>\n",
       "      <td>5</td>\n",
       "      <td>may</td>\n",
       "      <td>76</td>\n",
       "      <td>1</td>\n",
       "      <td>-1</td>\n",
       "      <td>0</td>\n",
       "      <td>unknown</td>\n",
       "      <td>no</td>\n",
       "    </tr>\n",
       "    <tr>\n",
       "      <th>3</th>\n",
       "      <td>47</td>\n",
       "      <td>blue-collar</td>\n",
       "      <td>married</td>\n",
       "      <td>unknown</td>\n",
       "      <td>no</td>\n",
       "      <td>1506</td>\n",
       "      <td>yes</td>\n",
       "      <td>no</td>\n",
       "      <td>unknown</td>\n",
       "      <td>5</td>\n",
       "      <td>may</td>\n",
       "      <td>92</td>\n",
       "      <td>1</td>\n",
       "      <td>-1</td>\n",
       "      <td>0</td>\n",
       "      <td>unknown</td>\n",
       "      <td>no</td>\n",
       "    </tr>\n",
       "    <tr>\n",
       "      <th>4</th>\n",
       "      <td>33</td>\n",
       "      <td>unknown</td>\n",
       "      <td>single</td>\n",
       "      <td>unknown</td>\n",
       "      <td>no</td>\n",
       "      <td>1</td>\n",
       "      <td>no</td>\n",
       "      <td>no</td>\n",
       "      <td>unknown</td>\n",
       "      <td>5</td>\n",
       "      <td>may</td>\n",
       "      <td>198</td>\n",
       "      <td>1</td>\n",
       "      <td>-1</td>\n",
       "      <td>0</td>\n",
       "      <td>unknown</td>\n",
       "      <td>no</td>\n",
       "    </tr>\n",
       "  </tbody>\n",
       "</table>\n",
       "</div>"
      ],
      "text/plain": [
       "   age           job  marital  education default  balance housing loan  \\\n",
       "0   58    management  married   tertiary      no     2143     yes   no   \n",
       "1   44    technician   single  secondary      no       29     yes   no   \n",
       "2   33  entrepreneur  married  secondary      no        2     yes  yes   \n",
       "3   47   blue-collar  married    unknown      no     1506     yes   no   \n",
       "4   33       unknown   single    unknown      no        1      no   no   \n",
       "\n",
       "   contact  day month  duration  campaign  pdays  previous poutcome   y  \n",
       "0  unknown    5   may       261         1     -1         0  unknown  no  \n",
       "1  unknown    5   may       151         1     -1         0  unknown  no  \n",
       "2  unknown    5   may        76         1     -1         0  unknown  no  \n",
       "3  unknown    5   may        92         1     -1         0  unknown  no  \n",
       "4  unknown    5   may       198         1     -1         0  unknown  no  "
      ]
     },
     "execution_count": 59,
     "metadata": {},
     "output_type": "execute_result"
    }
   ],
   "source": [
    "data.head()"
   ]
  },
  {
   "cell_type": "code",
   "execution_count": 60,
   "metadata": {
    "collapsed": true
   },
   "outputs": [],
   "source": [
    "target = data['y']\n",
    "data = pd.get_dummies(data[data.columns.difference(['y'])])\n",
    "data['y'] = target"
   ]
  },
  {
   "cell_type": "code",
   "execution_count": 61,
   "metadata": {
    "collapsed": false
   },
   "outputs": [
    {
     "name": "stdout",
     "output_type": "stream",
     "text": [
      "<class 'pandas.core.frame.DataFrame'>\n",
      "RangeIndex: 45211 entries, 0 to 45210\n",
      "Data columns (total 52 columns):\n",
      "age                    45211 non-null int64\n",
      "balance                45211 non-null int64\n",
      "campaign               45211 non-null int64\n",
      "day                    45211 non-null int64\n",
      "duration               45211 non-null int64\n",
      "pdays                  45211 non-null int64\n",
      "previous               45211 non-null int64\n",
      "contact_cellular       45211 non-null uint8\n",
      "contact_telephone      45211 non-null uint8\n",
      "contact_unknown        45211 non-null uint8\n",
      "default_no             45211 non-null uint8\n",
      "default_yes            45211 non-null uint8\n",
      "education_primary      45211 non-null uint8\n",
      "education_secondary    45211 non-null uint8\n",
      "education_tertiary     45211 non-null uint8\n",
      "education_unknown      45211 non-null uint8\n",
      "housing_no             45211 non-null uint8\n",
      "housing_yes            45211 non-null uint8\n",
      "job_admin.             45211 non-null uint8\n",
      "job_blue-collar        45211 non-null uint8\n",
      "job_entrepreneur       45211 non-null uint8\n",
      "job_housemaid          45211 non-null uint8\n",
      "job_management         45211 non-null uint8\n",
      "job_retired            45211 non-null uint8\n",
      "job_self-employed      45211 non-null uint8\n",
      "job_services           45211 non-null uint8\n",
      "job_student            45211 non-null uint8\n",
      "job_technician         45211 non-null uint8\n",
      "job_unemployed         45211 non-null uint8\n",
      "job_unknown            45211 non-null uint8\n",
      "loan_no                45211 non-null uint8\n",
      "loan_yes               45211 non-null uint8\n",
      "marital_divorced       45211 non-null uint8\n",
      "marital_married        45211 non-null uint8\n",
      "marital_single         45211 non-null uint8\n",
      "month_apr              45211 non-null uint8\n",
      "month_aug              45211 non-null uint8\n",
      "month_dec              45211 non-null uint8\n",
      "month_feb              45211 non-null uint8\n",
      "month_jan              45211 non-null uint8\n",
      "month_jul              45211 non-null uint8\n",
      "month_jun              45211 non-null uint8\n",
      "month_mar              45211 non-null uint8\n",
      "month_may              45211 non-null uint8\n",
      "month_nov              45211 non-null uint8\n",
      "month_oct              45211 non-null uint8\n",
      "month_sep              45211 non-null uint8\n",
      "poutcome_failure       45211 non-null uint8\n",
      "poutcome_other         45211 non-null uint8\n",
      "poutcome_success       45211 non-null uint8\n",
      "poutcome_unknown       45211 non-null uint8\n",
      "y                      45211 non-null object\n",
      "dtypes: int64(7), object(1), uint8(44)\n",
      "memory usage: 4.7+ MB\n"
     ]
    }
   ],
   "source": [
    "data.info()"
   ]
  },
  {
   "cell_type": "code",
   "execution_count": 62,
   "metadata": {
    "collapsed": false
   },
   "outputs": [
    {
     "data": {
      "text/plain": [
       "(45211, 52)"
      ]
     },
     "execution_count": 62,
     "metadata": {},
     "output_type": "execute_result"
    }
   ],
   "source": [
    "data.shape"
   ]
  },
  {
   "cell_type": "code",
   "execution_count": 63,
   "metadata": {
    "collapsed": false
   },
   "outputs": [
    {
     "data": {
      "text/html": [
       "<div>\n",
       "<table border=\"1\" class=\"dataframe\">\n",
       "  <thead>\n",
       "    <tr style=\"text-align: right;\">\n",
       "      <th></th>\n",
       "      <th>age</th>\n",
       "      <th>balance</th>\n",
       "      <th>campaign</th>\n",
       "      <th>day</th>\n",
       "      <th>duration</th>\n",
       "      <th>pdays</th>\n",
       "      <th>previous</th>\n",
       "      <th>contact_cellular</th>\n",
       "      <th>contact_telephone</th>\n",
       "      <th>contact_unknown</th>\n",
       "      <th>...</th>\n",
       "      <th>month_mar</th>\n",
       "      <th>month_may</th>\n",
       "      <th>month_nov</th>\n",
       "      <th>month_oct</th>\n",
       "      <th>month_sep</th>\n",
       "      <th>poutcome_failure</th>\n",
       "      <th>poutcome_other</th>\n",
       "      <th>poutcome_success</th>\n",
       "      <th>poutcome_unknown</th>\n",
       "      <th>y</th>\n",
       "    </tr>\n",
       "  </thead>\n",
       "  <tbody>\n",
       "    <tr>\n",
       "      <th>0</th>\n",
       "      <td>58</td>\n",
       "      <td>2143</td>\n",
       "      <td>1</td>\n",
       "      <td>5</td>\n",
       "      <td>261</td>\n",
       "      <td>-1</td>\n",
       "      <td>0</td>\n",
       "      <td>0</td>\n",
       "      <td>0</td>\n",
       "      <td>1</td>\n",
       "      <td>...</td>\n",
       "      <td>0</td>\n",
       "      <td>1</td>\n",
       "      <td>0</td>\n",
       "      <td>0</td>\n",
       "      <td>0</td>\n",
       "      <td>0</td>\n",
       "      <td>0</td>\n",
       "      <td>0</td>\n",
       "      <td>1</td>\n",
       "      <td>no</td>\n",
       "    </tr>\n",
       "    <tr>\n",
       "      <th>1</th>\n",
       "      <td>44</td>\n",
       "      <td>29</td>\n",
       "      <td>1</td>\n",
       "      <td>5</td>\n",
       "      <td>151</td>\n",
       "      <td>-1</td>\n",
       "      <td>0</td>\n",
       "      <td>0</td>\n",
       "      <td>0</td>\n",
       "      <td>1</td>\n",
       "      <td>...</td>\n",
       "      <td>0</td>\n",
       "      <td>1</td>\n",
       "      <td>0</td>\n",
       "      <td>0</td>\n",
       "      <td>0</td>\n",
       "      <td>0</td>\n",
       "      <td>0</td>\n",
       "      <td>0</td>\n",
       "      <td>1</td>\n",
       "      <td>no</td>\n",
       "    </tr>\n",
       "    <tr>\n",
       "      <th>2</th>\n",
       "      <td>33</td>\n",
       "      <td>2</td>\n",
       "      <td>1</td>\n",
       "      <td>5</td>\n",
       "      <td>76</td>\n",
       "      <td>-1</td>\n",
       "      <td>0</td>\n",
       "      <td>0</td>\n",
       "      <td>0</td>\n",
       "      <td>1</td>\n",
       "      <td>...</td>\n",
       "      <td>0</td>\n",
       "      <td>1</td>\n",
       "      <td>0</td>\n",
       "      <td>0</td>\n",
       "      <td>0</td>\n",
       "      <td>0</td>\n",
       "      <td>0</td>\n",
       "      <td>0</td>\n",
       "      <td>1</td>\n",
       "      <td>no</td>\n",
       "    </tr>\n",
       "    <tr>\n",
       "      <th>3</th>\n",
       "      <td>47</td>\n",
       "      <td>1506</td>\n",
       "      <td>1</td>\n",
       "      <td>5</td>\n",
       "      <td>92</td>\n",
       "      <td>-1</td>\n",
       "      <td>0</td>\n",
       "      <td>0</td>\n",
       "      <td>0</td>\n",
       "      <td>1</td>\n",
       "      <td>...</td>\n",
       "      <td>0</td>\n",
       "      <td>1</td>\n",
       "      <td>0</td>\n",
       "      <td>0</td>\n",
       "      <td>0</td>\n",
       "      <td>0</td>\n",
       "      <td>0</td>\n",
       "      <td>0</td>\n",
       "      <td>1</td>\n",
       "      <td>no</td>\n",
       "    </tr>\n",
       "    <tr>\n",
       "      <th>4</th>\n",
       "      <td>33</td>\n",
       "      <td>1</td>\n",
       "      <td>1</td>\n",
       "      <td>5</td>\n",
       "      <td>198</td>\n",
       "      <td>-1</td>\n",
       "      <td>0</td>\n",
       "      <td>0</td>\n",
       "      <td>0</td>\n",
       "      <td>1</td>\n",
       "      <td>...</td>\n",
       "      <td>0</td>\n",
       "      <td>1</td>\n",
       "      <td>0</td>\n",
       "      <td>0</td>\n",
       "      <td>0</td>\n",
       "      <td>0</td>\n",
       "      <td>0</td>\n",
       "      <td>0</td>\n",
       "      <td>1</td>\n",
       "      <td>no</td>\n",
       "    </tr>\n",
       "  </tbody>\n",
       "</table>\n",
       "<p>5 rows × 52 columns</p>\n",
       "</div>"
      ],
      "text/plain": [
       "   age  balance  campaign  day  duration  pdays  previous  contact_cellular  \\\n",
       "0   58     2143         1    5       261     -1         0                 0   \n",
       "1   44       29         1    5       151     -1         0                 0   \n",
       "2   33        2         1    5        76     -1         0                 0   \n",
       "3   47     1506         1    5        92     -1         0                 0   \n",
       "4   33        1         1    5       198     -1         0                 0   \n",
       "\n",
       "   contact_telephone  contact_unknown ...  month_mar  month_may  month_nov  \\\n",
       "0                  0                1 ...          0          1          0   \n",
       "1                  0                1 ...          0          1          0   \n",
       "2                  0                1 ...          0          1          0   \n",
       "3                  0                1 ...          0          1          0   \n",
       "4                  0                1 ...          0          1          0   \n",
       "\n",
       "   month_oct  month_sep  poutcome_failure  poutcome_other  poutcome_success  \\\n",
       "0          0          0                 0               0                 0   \n",
       "1          0          0                 0               0                 0   \n",
       "2          0          0                 0               0                 0   \n",
       "3          0          0                 0               0                 0   \n",
       "4          0          0                 0               0                 0   \n",
       "\n",
       "   poutcome_unknown   y  \n",
       "0                 1  no  \n",
       "1                 1  no  \n",
       "2                 1  no  \n",
       "3                 1  no  \n",
       "4                 1  no  \n",
       "\n",
       "[5 rows x 52 columns]"
      ]
     },
     "execution_count": 63,
     "metadata": {},
     "output_type": "execute_result"
    }
   ],
   "source": [
    "data.head()"
   ]
  },
  {
   "cell_type": "code",
   "execution_count": 64,
   "metadata": {
    "collapsed": false
   },
   "outputs": [],
   "source": [
    "from sklearn.model_selection import train_test_split"
   ]
  },
  {
   "cell_type": "code",
   "execution_count": 65,
   "metadata": {
    "collapsed": false
   },
   "outputs": [
    {
     "name": "stderr",
     "output_type": "stream",
     "text": [
      "/Users/purvank/anaconda3/lib/python3.5/site-packages/sklearn/model_selection/_split.py:2026: FutureWarning: From version 0.21, test_size will always complement train_size unless both are specified.\n",
      "  FutureWarning)\n"
     ]
    }
   ],
   "source": [
    "x_train,x_test,y_train,y_test = train_test_split(data[data.columns.difference(['y'])],data['y'],train_size=0.67,random_state=367)"
   ]
  },
  {
   "cell_type": "markdown",
   "metadata": {},
   "source": [
    "## Important Features"
   ]
  },
  {
   "cell_type": "code",
   "execution_count": 66,
   "metadata": {
    "collapsed": true
   },
   "outputs": [],
   "source": [
    "from sklearn.linear_model import LogisticRegression"
   ]
  },
  {
   "cell_type": "markdown",
   "metadata": {},
   "source": [
    "## LogisticRegression on normal data"
   ]
  },
  {
   "cell_type": "markdown",
   "metadata": {},
   "source": [
    "## L2-regularized LogisticRegression"
   ]
  },
  {
   "cell_type": "code",
   "execution_count": 67,
   "metadata": {
    "collapsed": false
   },
   "outputs": [],
   "source": [
    "clf = LogisticRegression(penalty='l2',random_state=367)"
   ]
  },
  {
   "cell_type": "code",
   "execution_count": 68,
   "metadata": {
    "collapsed": false
   },
   "outputs": [
    {
     "data": {
      "text/plain": [
       "LogisticRegression(C=1.0, class_weight=None, dual=False, fit_intercept=True,\n",
       "          intercept_scaling=1, max_iter=100, multi_class='ovr', n_jobs=1,\n",
       "          penalty='l2', random_state=367, solver='liblinear', tol=0.0001,\n",
       "          verbose=0, warm_start=False)"
      ]
     },
     "execution_count": 68,
     "metadata": {},
     "output_type": "execute_result"
    }
   ],
   "source": [
    "clf.fit(x_train,y_train,)"
   ]
  },
  {
   "cell_type": "code",
   "execution_count": 69,
   "metadata": {
    "collapsed": false
   },
   "outputs": [],
   "source": [
    "l = []\n",
    "for i in range(0,len(x_train.columns)):\n",
    "    l.append((x_train.columns[i],np.abs(clf.coef_[0][i])))"
   ]
  },
  {
   "cell_type": "code",
   "execution_count": 70,
   "metadata": {
    "collapsed": false
   },
   "outputs": [
    {
     "name": "stdout",
     "output_type": "stream",
     "text": [
      "the top 10 features and their weights for l2 regularization\n"
     ]
    },
    {
     "data": {
      "text/plain": [
       "[('month_mar', 1.4588030001581109),\n",
       " ('poutcome_success', 1.4204195020334218),\n",
       " ('month_jan', 1.3358609020654704),\n",
       " ('contact_unknown', 1.2833418041693196),\n",
       " ('month_jul', 0.93802630122814756),\n",
       " ('month_nov', 0.93613858252373983),\n",
       " ('poutcome_failure', 0.84735111594516643),\n",
       " ('month_aug', 0.76907489486827363),\n",
       " ('poutcome_unknown', 0.76691712469131579),\n",
       " ('housing_yes', 0.75793802031080715)]"
      ]
     },
     "execution_count": 70,
     "metadata": {},
     "output_type": "execute_result"
    }
   ],
   "source": [
    "print (\"the top 10 features and their weights for l2 regularization\")\n",
    "sorted(l,key=lambda x:x[1],reverse=True)[:10]"
   ]
  },
  {
   "cell_type": "markdown",
   "metadata": {},
   "source": [
    "## L1-regularized LogisticRegression"
   ]
  },
  {
   "cell_type": "code",
   "execution_count": 71,
   "metadata": {
    "collapsed": true
   },
   "outputs": [],
   "source": [
    "clf1 = LogisticRegression(penalty='l1',random_state=367)"
   ]
  },
  {
   "cell_type": "code",
   "execution_count": 72,
   "metadata": {
    "collapsed": false
   },
   "outputs": [
    {
     "data": {
      "text/plain": [
       "LogisticRegression(C=1.0, class_weight=None, dual=False, fit_intercept=True,\n",
       "          intercept_scaling=1, max_iter=100, multi_class='ovr', n_jobs=1,\n",
       "          penalty='l1', random_state=367, solver='liblinear', tol=0.0001,\n",
       "          verbose=0, warm_start=False)"
      ]
     },
     "execution_count": 72,
     "metadata": {},
     "output_type": "execute_result"
    }
   ],
   "source": [
    "clf1.fit(x_train,y_train)"
   ]
  },
  {
   "cell_type": "code",
   "execution_count": 73,
   "metadata": {
    "collapsed": true
   },
   "outputs": [],
   "source": [
    "l1 = []\n",
    "for i in range(0,len(x_train.columns)):\n",
    "    l1.append((x_train.columns[i],np.abs(clf1.coef_[0][i])))"
   ]
  },
  {
   "cell_type": "code",
   "execution_count": 74,
   "metadata": {
    "collapsed": false
   },
   "outputs": [
    {
     "name": "stdout",
     "output_type": "stream",
     "text": [
      "the top 10 features and their weights for l1 regularization\n"
     ]
    },
    {
     "data": {
      "text/plain": [
       "[('contact_unknown', 1.6179376297365422),\n",
       " ('poutcome_success', 1.4528052243654812),\n",
       " ('month_mar', 1.4455256168996149),\n",
       " ('month_jan', 1.3594910919273164),\n",
       " ('housing_yes', 1.034481464774389),\n",
       " ('month_nov', 0.96998456213574313),\n",
       " ('month_jul', 0.96359188842729637),\n",
       " ('poutcome_failure', 0.80983356293595377),\n",
       " ('month_aug', 0.78877622777659573),\n",
       " ('poutcome_unknown', 0.74044023772097123)]"
      ]
     },
     "execution_count": 74,
     "metadata": {},
     "output_type": "execute_result"
    }
   ],
   "source": [
    "print (\"the top 10 features and their weights for l1 regularization\")\n",
    "sorted(l1,key=lambda x:x[1],reverse=True)[:10]"
   ]
  },
  {
   "cell_type": "markdown",
   "metadata": {},
   "source": [
    "## DecisionTreeClassifier"
   ]
  },
  {
   "cell_type": "code",
   "execution_count": 75,
   "metadata": {
    "collapsed": false
   },
   "outputs": [],
   "source": [
    "from sklearn.tree import DecisionTreeClassifier"
   ]
  },
  {
   "cell_type": "code",
   "execution_count": 76,
   "metadata": {
    "collapsed": true
   },
   "outputs": [],
   "source": [
    "tree1= DecisionTreeClassifier(max_depth=6,min_impurity_decrease=0.005,random_state=367)"
   ]
  },
  {
   "cell_type": "code",
   "execution_count": 77,
   "metadata": {
    "collapsed": false
   },
   "outputs": [
    {
     "data": {
      "text/plain": [
       "DecisionTreeClassifier(class_weight=None, criterion='gini', max_depth=6,\n",
       "            max_features=None, max_leaf_nodes=None,\n",
       "            min_impurity_decrease=0.005, min_impurity_split=None,\n",
       "            min_samples_leaf=1, min_samples_split=2,\n",
       "            min_weight_fraction_leaf=0.0, presort=False, random_state=367,\n",
       "            splitter='best')"
      ]
     },
     "execution_count": 77,
     "metadata": {},
     "output_type": "execute_result"
    }
   ],
   "source": [
    "tree1.fit(x_train,y_train)"
   ]
  },
  {
   "cell_type": "code",
   "execution_count": 78,
   "metadata": {
    "collapsed": false
   },
   "outputs": [],
   "source": [
    "from graphviz import Source\n",
    "from sklearn import tree"
   ]
  },
  {
   "cell_type": "code",
   "execution_count": 79,
   "metadata": {
    "collapsed": false
   },
   "outputs": [
    {
     "data": {
      "image/png": "[encoded data removed]",
      "text/plain": [
       "<IPython.core.display.Image object>"
      ]
     },
     "execution_count": 79,
     "metadata": {},
     "output_type": "execute_result"
    }
   ],
   "source": [
    "tree_viz = Source(tree.export_graphviz(tree1, out_file=None, feature_names=x_train.columns,class_names=['No','Yes']))\n",
    "pic = tree_viz.pipe(format='png')\n",
    "with open('dtree_pipe.png','wb') as f:\n",
    "    f.write(pic)\n",
    "from IPython.display import Image\n",
    "Image(pic)"
   ]
  },
  {
   "cell_type": "markdown",
   "metadata": {},
   "source": [
    "## Results:\n",
    "\n",
    "### 1) As per the L2 regularized LR poutcome_success is the best feature, whereas for L1 regularized LR contact_unknown is the best feature.\n",
    "### 2) when we compare the results of the Decision Tree with L1 and L2 LR's, the decision tree is uses duration and poutcome_success as main spliting features. Both, L1 and L2  doens't select the duration feature, for L2 it selects the poutcome_success as the best features which is used by decision tree at depth 2. L1 selects the poutcome_success as the second best feature.\n",
    "### 3) Both in L1 and L2, almost all the features are same, only their ranking has been changed. There is one feature that has been changed in L1 compared to L2, L2 selects month_oct features whereas L1 selects the poutcome_unknown feature."
   ]
  },
  {
   "cell_type": "markdown",
   "metadata": {},
   "source": [
    "## z-scoring"
   ]
  },
  {
   "cell_type": "code",
   "execution_count": 80,
   "metadata": {
    "collapsed": true
   },
   "outputs": [],
   "source": [
    "from sklearn.preprocessing import StandardScaler"
   ]
  },
  {
   "cell_type": "code",
   "execution_count": 81,
   "metadata": {
    "collapsed": false
   },
   "outputs": [],
   "source": [
    "s = StandardScaler()"
   ]
  },
  {
   "cell_type": "code",
   "execution_count": 82,
   "metadata": {
    "collapsed": false
   },
   "outputs": [],
   "source": [
    "x_train_s = s.fit_transform(x_train)\n",
    "x_test_s = s.transform(x_test)"
   ]
  },
  {
   "cell_type": "code",
   "execution_count": 83,
   "metadata": {
    "collapsed": true
   },
   "outputs": [],
   "source": [
    "a = {}\n",
    "a['X_train'] = x_train_s\n",
    "a['y_train'] = y_train\n",
    "a['X_test'] = x_test_s\n",
    "a['y_test'] = y_test\n",
    "a['target_names'] = ['no','yes']\n",
    "a['feature_names'] = list(x_train.columns.values)\n",
    "import pickle\n",
    "pickle.dump(a, open(\"ppatel104.pickle\", \"wb\")) "
   ]
  },
  {
   "cell_type": "markdown",
   "metadata": {},
   "source": [
    "## Logistic Regression on Z-scored Data\n",
    "\n",
    "## L2 reularized Logistic Regression"
   ]
  },
  {
   "cell_type": "code",
   "execution_count": 84,
   "metadata": {
    "collapsed": false,
    "scrolled": true
   },
   "outputs": [
    {
     "data": {
      "text/plain": [
       "LogisticRegression(C=1.0, class_weight=None, dual=False, fit_intercept=True,\n",
       "          intercept_scaling=1, max_iter=100, multi_class='ovr', n_jobs=1,\n",
       "          penalty='l2', random_state=367, solver='liblinear', tol=0.0001,\n",
       "          verbose=0, warm_start=False)"
      ]
     },
     "execution_count": 84,
     "metadata": {},
     "output_type": "execute_result"
    }
   ],
   "source": [
    "clf2 = LogisticRegression(penalty='l2',random_state=367)\n",
    "clf2.fit(x_train_s,y_train)"
   ]
  },
  {
   "cell_type": "code",
   "execution_count": 85,
   "metadata": {
    "collapsed": true
   },
   "outputs": [],
   "source": [
    "l2 = []\n",
    "for i in range(0,len(x_train.columns)):\n",
    "    l2.append((x_train.columns[i],np.abs(clf2.coef_[0][i])))"
   ]
  },
  {
   "cell_type": "code",
   "execution_count": 86,
   "metadata": {
    "collapsed": false
   },
   "outputs": [
    {
     "name": "stdout",
     "output_type": "stream",
     "text": [
      "the top 10 features and their weights for l1 regularization\n"
     ]
    },
    {
     "data": {
      "text/plain": [
       "[('duration', 1.045704240005612),\n",
       " ('contact_unknown', 0.42021968906187435),\n",
       " ('poutcome_success', 0.35544841755395851),\n",
       " ('contact_cellular', 0.33484549286349041),\n",
       " ('campaign', 0.298765418740498),\n",
       " ('month_jun', 0.27832106246792032),\n",
       " ('month_mar', 0.19725126399754653),\n",
       " ('month_jul', 0.1818998299946889),\n",
       " ('housing_no', 0.17115315961034566),\n",
       " ('housing_yes', 0.17115315961034566)]"
      ]
     },
     "execution_count": 86,
     "metadata": {},
     "output_type": "execute_result"
    }
   ],
   "source": [
    "print (\"the top 10 features and their weights for l1 regularization\")\n",
    "sorted(l2,key=lambda x:x[1],reverse=True)[:10]"
   ]
  },
  {
   "cell_type": "markdown",
   "metadata": {},
   "source": [
    "## L1 regularized Logistic Regression"
   ]
  },
  {
   "cell_type": "code",
   "execution_count": 87,
   "metadata": {
    "collapsed": false
   },
   "outputs": [
    {
     "data": {
      "text/plain": [
       "LogisticRegression(C=1.0, class_weight=None, dual=False, fit_intercept=True,\n",
       "          intercept_scaling=1, max_iter=100, multi_class='ovr', n_jobs=1,\n",
       "          penalty='l1', random_state=367, solver='liblinear', tol=0.0001,\n",
       "          verbose=0, warm_start=False)"
      ]
     },
     "execution_count": 87,
     "metadata": {},
     "output_type": "execute_result"
    }
   ],
   "source": [
    "clf3 = LogisticRegression(penalty='l1',random_state=367)\n",
    "clf3.fit(x_train_s,y_train)"
   ]
  },
  {
   "cell_type": "code",
   "execution_count": 88,
   "metadata": {
    "collapsed": true
   },
   "outputs": [],
   "source": [
    "l3 = []\n",
    "for i in range(0,len(x_train.columns)):\n",
    "    l3.append((x_train.columns[i],np.abs(clf3.coef_[0][i])))"
   ]
  },
  {
   "cell_type": "code",
   "execution_count": 89,
   "metadata": {
    "collapsed": false
   },
   "outputs": [
    {
     "name": "stdout",
     "output_type": "stream",
     "text": [
      "the top 10 features and their weights for l1 regularization\n"
     ]
    },
    {
     "data": {
      "text/plain": [
       "[('duration', 1.0458236117538113),\n",
       " ('contact_unknown', 0.65452726346757528),\n",
       " ('poutcome_success', 0.39351390231229239),\n",
       " ('campaign', 0.29814851460234504),\n",
       " ('month_jun', 0.29739491587699768),\n",
       " ('housing_no', 0.2884469465767287),\n",
       " ('month_mar', 0.20357952819549838),\n",
       " ('month_oct', 0.1619018424463847),\n",
       " ('month_jul', 0.15931497796745797),\n",
       " ('month_jan', 0.15015921481915173)]"
      ]
     },
     "execution_count": 89,
     "metadata": {},
     "output_type": "execute_result"
    }
   ],
   "source": [
    "print (\"the top 10 features and their weights for l1 regularization\")\n",
    "sorted(l3,key=lambda x:x[1],reverse=True)[:10]"
   ]
  },
  {
   "cell_type": "code",
   "execution_count": 90,
   "metadata": {
    "collapsed": true
   },
   "outputs": [],
   "source": [
    "tree2= DecisionTreeClassifier(max_depth=6,min_impurity_decrease=0.005,random_state=367)"
   ]
  },
  {
   "cell_type": "code",
   "execution_count": 91,
   "metadata": {
    "collapsed": false
   },
   "outputs": [
    {
     "data": {
      "text/plain": [
       "DecisionTreeClassifier(class_weight=None, criterion='gini', max_depth=6,\n",
       "            max_features=None, max_leaf_nodes=None,\n",
       "            min_impurity_decrease=0.005, min_impurity_split=None,\n",
       "            min_samples_leaf=1, min_samples_split=2,\n",
       "            min_weight_fraction_leaf=0.0, presort=False, random_state=367,\n",
       "            splitter='best')"
      ]
     },
     "execution_count": 91,
     "metadata": {},
     "output_type": "execute_result"
    }
   ],
   "source": [
    "tree2.fit(x_train_s,y_train)"
   ]
  },
  {
   "cell_type": "code",
   "execution_count": 92,
   "metadata": {
    "collapsed": false
   },
   "outputs": [
    {
     "data": {
      "image/png": "[encoded data removed]",
      "text/plain": [
       "<IPython.core.display.Image object>"
      ]
     },
     "execution_count": 92,
     "metadata": {},
     "output_type": "execute_result"
    }
   ],
   "source": [
    "tree_viz = Source(tree.export_graphviz(tree2, out_file=None, feature_names=x_train.columns,class_names=['No','Yes']))\n",
    "pic = tree_viz.pipe(format='png')\n",
    "with open('dtree_pipe.png','wb') as f:\n",
    "    f.write(pic)\n",
    "from IPython.display import Image\n",
    "Image(pic)"
   ]
  },
  {
   "cell_type": "markdown",
   "metadata": {},
   "source": [
    "## Results:\n",
    "\n",
    "### 1) On z-scored data, both L1 and L2 have the same top 3 features two of which are used by the Decision Tree Classifier as the main spliting features. L1, L2, and Decision Tree all of them selects the duration as the main feature.\n",
    "### 2) In the duration features defines the last contact duration (in seconds), this attribute highly affects the target class because if the duration is 0 then y = 'No'. Yet, the duration is not known before the call is performed. Also, after the end of the call y is obviously known. \n",
    "### 3) In L1 and L2 in top to features, two features are different."
   ]
  },
  {
   "cell_type": "markdown",
   "metadata": {},
   "source": [
    "## Evidence"
   ]
  },
  {
   "cell_type": "code",
   "execution_count": 93,
   "metadata": {
    "collapsed": false
   },
   "outputs": [
    {
     "data": {
      "text/plain": [
       "LogisticRegression(C=1.0, class_weight=None, dual=False, fit_intercept=True,\n",
       "          intercept_scaling=1, max_iter=100, multi_class='ovr', n_jobs=1,\n",
       "          penalty='l2', random_state=367, solver='liblinear', tol=0.0001,\n",
       "          verbose=0, warm_start=False)"
      ]
     },
     "execution_count": 93,
     "metadata": {},
     "output_type": "execute_result"
    }
   ],
   "source": [
    "clf4 = LogisticRegression(penalty='l2',random_state=367)\n",
    "clf4.fit(x_train_s,y_train)"
   ]
  },
  {
   "cell_type": "code",
   "execution_count": 94,
   "metadata": {
    "collapsed": false
   },
   "outputs": [],
   "source": [
    "total_pos_evi = {}\n",
    "total_neg_evi = {}\n",
    "pos_evi_feat = {}\n",
    "neg_evi_feat = {}"
   ]
  },
  {
   "cell_type": "code",
   "execution_count": 95,
   "metadata": {
    "collapsed": false
   },
   "outputs": [],
   "source": [
    "for i in range(0,len(x_test_s)):\n",
    "    pos_feat = {}\n",
    "    neg_feat = {}\n",
    "    pos_evd = 0\n",
    "    neg_evd = 0\n",
    "    if(clf.intercept_[0]>0):\n",
    "        pos_evd = clf.intercept_[0]\n",
    "    else:\n",
    "        neg_evd = clf.intercept_[0]\n",
    "    evidence = x_test_s[i] * clf4.coef_[0]\n",
    "    for j in range(0,len(evidence)):\n",
    "        if(evidence[j]>0):\n",
    "            pos_evd += evidence[j]\n",
    "            pos_feat[j] = evidence[j]\n",
    "        elif(evidence[j]<0):\n",
    "            neg_evd += evidence[j]\n",
    "            neg_feat[j] = evidence[j]\n",
    "    total_pos_evi[i] = pos_evd\n",
    "    total_neg_evi[i] = neg_evd\n",
    "    pos_evi_feat[i] = pos_feat\n",
    "    neg_evi_feat[i] = neg_feat"
   ]
  },
  {
   "cell_type": "code",
   "execution_count": 96,
   "metadata": {
    "collapsed": true
   },
   "outputs": [],
   "source": [
    "test_prob = clf.predict_proba(x_test_s)\n",
    "pos_obj_index = np.argmax(test_prob[:,0])\n",
    "neg_obj_index = np.argmax(test_prob[:,1])"
   ]
  },
  {
   "cell_type": "markdown",
   "metadata": {},
   "source": [
    "### 1) The most positive object with respect to the probabilities."
   ]
  },
  {
   "cell_type": "code",
   "execution_count": 97,
   "metadata": {
    "collapsed": false
   },
   "outputs": [
    {
     "name": "stdout",
     "output_type": "stream",
     "text": [
      "1) The total positive log-evidence: 1.329889\n",
      "\n",
      "2) The total negative log-evidence: -3.830849\n",
      "\n",
      "3) Class Distribution:\n",
      "Class-1 Probability:0.999984\n",
      "Class-0 Probaility: 0.000016\n",
      "\n",
      "4) Top 3 features values that contribute most to the positive evidence\n",
      "First Feature: contact_unknown\n",
      "Second Feature: contact_cellular\n",
      "Third Feature: campaign\n",
      "\n",
      "5)Top 3 feature values that contribute the most to the negative evidence.\n",
      "First Feature: education_unknown\n",
      "Second Feature: job_unknown\n",
      "Third Feature: job_unemployed\n"
     ]
    }
   ],
   "source": [
    "print (\"1) The total positive log-evidence: %f\\n\"%total_pos_evi[pos_obj_index])\n",
    "print (\"2) The total negative log-evidence: %f\\n\"%total_neg_evi[pos_obj_index])\n",
    "print (\"3) Class Distribution:\")\n",
    "print (\"Class-1 Probability:%f\"%test_prob[pos_obj_index][0])\n",
    "print (\"Class-0 Probaility: %f\\n\"%test_prob[pos_obj_index][1])\n",
    "print (\"4) Top 3 features values that contribute most to the positive evidence\")\n",
    "top3_pos_feat_index = sorted(pos_evi_feat[pos_obj_index], key=pos_evi_feat[pos_obj_index].get,reverse=True)[0:3]\n",
    "print (\"First Feature: %s\"%x_test.columns[top3_pos_feat_index[0]])\n",
    "print (\"Second Feature: %s\"%x_test.columns[top3_pos_feat_index[1]])\n",
    "print (\"Third Feature: %s\\n\"%x_test.columns[top3_pos_feat_index[2]])\n",
    "print (\"5)Top 3 feature values that contribute the most to the negative evidence.\")\n",
    "top3_neg_feat_index = sorted(neg_evi_feat[pos_obj_index], key=neg_evi_feat[pos_obj_index].get,reverse=True)[0:3]\n",
    "print (\"First Feature: %s\"%x_test.columns[top3_neg_feat_index[0]])\n",
    "print (\"Second Feature: %s\"%x_test.columns[top3_neg_feat_index[1]])\n",
    "print (\"Third Feature: %s\"%x_test.columns[top3_neg_feat_index[2]])"
   ]
  },
  {
   "cell_type": "markdown",
   "metadata": {},
   "source": [
    "### 2) The most negative object with respect to the probabilities.¶"
   ]
  },
  {
   "cell_type": "code",
   "execution_count": 98,
   "metadata": {
    "collapsed": false
   },
   "outputs": [
    {
     "name": "stdout",
     "output_type": "stream",
     "text": [
      "1) The total positive log-evidence: 6.391614\n",
      "\n",
      "2) The total negative log-evidence: -1.670499\n",
      "\n",
      "3) Class Distribution:\n",
      "Class-1 Probability:0.000000\n",
      "Class-0 Probaility: 1.000000\n",
      "\n",
      "4) Top 3 features values that contribute most to the positive evidence\n",
      "First Feature: poutcome_success\n",
      "Second Feature: month_mar\n",
      "Third Feature: job_student\n",
      "\n",
      "5)Top 3 feature values that contribute the most to the negative evidence.\n",
      "First Feature: education_unknown\n",
      "Second Feature: job_unknown\n",
      "Third Feature: job_unemployed\n"
     ]
    }
   ],
   "source": [
    "print (\"1) The total positive log-evidence: %f\\n\"%total_pos_evi[neg_obj_index])\n",
    "print (\"2) The total negative log-evidence: %f\\n\"%total_neg_evi[neg_obj_index])\n",
    "print (\"3) Class Distribution:\")\n",
    "print (\"Class-1 Probability:%f\"%test_prob[neg_obj_index][0])\n",
    "print (\"Class-0 Probaility: %f\\n\"%test_prob[neg_obj_index][1])\n",
    "print (\"4) Top 3 features values that contribute most to the positive evidence\")\n",
    "top3_pos_feat_index = sorted(pos_evi_feat[neg_obj_index], key=pos_evi_feat[neg_obj_index].get,reverse=True)[0:3]\n",
    "print (\"First Feature: %s\"%x_test.columns[top3_pos_feat_index[0]])\n",
    "print (\"Second Feature: %s\"%x_test.columns[top3_pos_feat_index[1]])\n",
    "print (\"Third Feature: %s\\n\"%x_test.columns[top3_pos_feat_index[2]])\n",
    "print (\"5)Top 3 feature values that contribute the most to the negative evidence.\")\n",
    "top3_neg_feat_index = sorted(neg_evi_feat[neg_obj_index], key=neg_evi_feat[neg_obj_index].get,reverse=True)[0:3]\n",
    "print (\"First Feature: %s\"%x_test.columns[top3_neg_feat_index[0]])\n",
    "print (\"Second Feature: %s\"%x_test.columns[top3_neg_feat_index[1]])\n",
    "print (\"Third Feature: %s\"%x_test.columns[top3_neg_feat_index[2]])"
   ]
  },
  {
   "cell_type": "markdown",
   "metadata": {},
   "source": [
    "### 3) The object that has the largest positive evidence."
   ]
  },
  {
   "cell_type": "code",
   "execution_count": 99,
   "metadata": {
    "collapsed": false
   },
   "outputs": [],
   "source": [
    "largest_pos_evd = sorted(total_pos_evi, key=total_pos_evi.get,reverse=True)\n",
    "largest_pos_obj_index = largest_pos_evd[0]"
   ]
  },
  {
   "cell_type": "code",
   "execution_count": 100,
   "metadata": {
    "collapsed": false
   },
   "outputs": [
    {
     "name": "stdout",
     "output_type": "stream",
     "text": [
      "1) The total positive log-evidence: 16.254372\n",
      "\n",
      "2) The total negative log-evidence: -2.516784\n",
      "\n",
      "3) Class Distribution:\n",
      "Class-1 Probability:0.552465\n",
      "Class-0 Probaility: 0.447535\n",
      "\n",
      "4) Top 3 features values that contribute most to the positive evidence\n",
      "First Feature: duration\n",
      "Second Feature: month_jun\n",
      "Third Feature: housing_no\n",
      "\n",
      "5)Top 3 feature values that contribute the most to the negative evidence.\n",
      "First Feature: education_unknown\n",
      "Second Feature: balance\n",
      "Third Feature: job_unknown\n"
     ]
    }
   ],
   "source": [
    "print (\"1) The total positive log-evidence: %f\\n\"%total_pos_evi[largest_pos_obj_index])\n",
    "print (\"2) The total negative log-evidence: %f\\n\"%total_neg_evi[largest_pos_obj_index])\n",
    "print (\"3) Class Distribution:\")\n",
    "print (\"Class-1 Probability:%f\"%test_prob[largest_pos_obj_index][0])\n",
    "print (\"Class-0 Probaility: %f\\n\"%test_prob[largest_pos_obj_index][1])\n",
    "print (\"4) Top 3 features values that contribute most to the positive evidence\")\n",
    "top3_pos_feat_index = sorted(pos_evi_feat[largest_pos_obj_index], key=pos_evi_feat[largest_pos_obj_index].get,reverse=True)[0:3]\n",
    "print (\"First Feature: %s\"%x_test.columns[top3_pos_feat_index[0]])\n",
    "print (\"Second Feature: %s\"%x_test.columns[top3_pos_feat_index[1]])\n",
    "print (\"Third Feature: %s\\n\"%x_test.columns[top3_pos_feat_index[2]])\n",
    "print (\"5)Top 3 feature values that contribute the most to the negative evidence.\")\n",
    "top3_neg_feat_index = sorted(neg_evi_feat[largest_pos_obj_index], key=neg_evi_feat[largest_pos_obj_index].get,reverse=True)[0:3]\n",
    "print (\"First Feature: %s\"%x_test.columns[top3_neg_feat_index[0]])\n",
    "print (\"Second Feature: %s\"%x_test.columns[top3_neg_feat_index[1]])\n",
    "print (\"Third Feature: %s\"%x_test.columns[top3_neg_feat_index[2]])"
   ]
  },
  {
   "cell_type": "markdown",
   "metadata": {},
   "source": [
    "### 4) The object that has the largest negative evidence."
   ]
  },
  {
   "cell_type": "code",
   "execution_count": 101,
   "metadata": {
    "collapsed": true
   },
   "outputs": [],
   "source": [
    "largest_neg_evd = sorted(total_neg_evi, key=total_neg_evi.get,reverse=True)\n",
    "largest_neg_obj_index = largest_neg_evd[0]"
   ]
  },
  {
   "cell_type": "code",
   "execution_count": 102,
   "metadata": {
    "collapsed": false
   },
   "outputs": [
    {
     "name": "stdout",
     "output_type": "stream",
     "text": [
      "1) The total positive log-evidence: 4.802560\n",
      "\n",
      "2) The total negative log-evidence: -1.032780\n",
      "\n",
      "3) Class Distribution:\n",
      "Class-1 Probability:0.000001\n",
      "Class-0 Probaility: 0.999999\n",
      "\n",
      "4) Top 3 features values that contribute most to the positive evidence\n",
      "First Feature: poutcome_success\n",
      "Second Feature: month_jun\n",
      "Third Feature: contact_unknown\n",
      "\n",
      "5)Top 3 feature values that contribute the most to the negative evidence.\n",
      "First Feature: education_unknown\n",
      "Second Feature: job_unknown\n",
      "Third Feature: job_unemployed\n"
     ]
    }
   ],
   "source": [
    "print (\"1) The total positive log-evidence: %f\\n\"%total_pos_evi[largest_neg_obj_index])\n",
    "print (\"2) The total negative log-evidence: %f\\n\"%total_neg_evi[largest_neg_obj_index])\n",
    "print (\"3) Class Distribution:\")\n",
    "print (\"Class-1 Probability:%f\"%test_prob[largest_neg_obj_index][0])\n",
    "print (\"Class-0 Probaility: %f\\n\"%test_prob[largest_neg_obj_index][1])\n",
    "print (\"4) Top 3 features values that contribute most to the positive evidence\")\n",
    "top3_pos_feat_index = sorted(pos_evi_feat[largest_neg_obj_index], key=pos_evi_feat[largest_neg_obj_index].get,reverse=True)[0:3]\n",
    "print (\"First Feature: %s\"%x_test.columns[top3_pos_feat_index[0]])\n",
    "print (\"Second Feature: %s\"%x_test.columns[top3_pos_feat_index[1]])\n",
    "print (\"Third Feature: %s\\n\"%x_test.columns[top3_pos_feat_index[2]])\n",
    "print (\"5)Top 3 feature values that contribute the most to the negative evidence.\")\n",
    "top3_neg_feat_index = sorted(neg_evi_feat[largest_neg_obj_index], key=neg_evi_feat[largest_neg_obj_index].get,reverse=True)[0:3]\n",
    "print (\"First Feature: %s\"%x_test.columns[top3_neg_feat_index[0]])\n",
    "print (\"Second Feature: %s\"%x_test.columns[top3_neg_feat_index[1]])\n",
    "print (\"Third Feature: %s\"%x_test.columns[top3_neg_feat_index[2]])"
   ]
  },
  {
   "cell_type": "markdown",
   "metadata": {},
   "source": [
    "### 5) The most uncertain object (the probabilities are closest to 0.5)"
   ]
  },
  {
   "cell_type": "code",
   "execution_count": 103,
   "metadata": {
    "collapsed": false
   },
   "outputs": [
    {
     "name": "stdout",
     "output_type": "stream",
     "text": [
      "(2868, 0.49998465091414523)\n",
      "(2868, 0.50001534908585477)\n"
     ]
    }
   ],
   "source": [
    "# The most uncertain object with respect to the probabilities\n",
    "print (min(enumerate(test_prob[:,0]),key=lambda x: abs(x[1]-0.5)))\n",
    "print (min(enumerate(test_prob[:,1]),key=lambda x: abs(x[1]-0.5)))"
   ]
  },
  {
   "cell_type": "code",
   "execution_count": 104,
   "metadata": {
    "collapsed": true
   },
   "outputs": [],
   "source": [
    "uncertain_obj_index = 9599"
   ]
  },
  {
   "cell_type": "code",
   "execution_count": 105,
   "metadata": {
    "collapsed": false
   },
   "outputs": [
    {
     "name": "stdout",
     "output_type": "stream",
     "text": [
      "1) The total positive log-evidence: 1.769462\n",
      "\n",
      "2) The total negative log-evidence: -3.805370\n",
      "\n",
      "3) Class Distribution:\n",
      "Class-1 Probability:0.492207\n",
      "Class-0 Probaility: 0.507793\n",
      "\n",
      "4) Top 3 features values that contribute most to the positive evidence\n",
      "First Feature: month_jun\n",
      "Second Feature: housing_no\n",
      "Third Feature: housing_yes\n",
      "\n",
      "5)Top 3 feature values that contribute the most to the negative evidence.\n",
      "First Feature: education_unknown\n",
      "Second Feature: job_unknown\n",
      "Third Feature: job_unemployed\n"
     ]
    }
   ],
   "source": [
    "print (\"1) The total positive log-evidence: %f\\n\"%total_pos_evi[uncertain_obj_index])\n",
    "print (\"2) The total negative log-evidence: %f\\n\"%total_neg_evi[uncertain_obj_index])\n",
    "print (\"3) Class Distribution:\")\n",
    "print (\"Class-1 Probability:%f\"%test_prob[uncertain_obj_index][0])\n",
    "print (\"Class-0 Probaility: %f\\n\"%test_prob[uncertain_obj_index][1])\n",
    "print (\"4) Top 3 features values that contribute most to the positive evidence\")\n",
    "top3_pos_feat_index = sorted(pos_evi_feat[uncertain_obj_index], key=pos_evi_feat[uncertain_obj_index].get,reverse=True)[0:3]\n",
    "print (\"First Feature: %s\"%x_test.columns[top3_pos_feat_index[0]])\n",
    "print (\"Second Feature: %s\"%x_test.columns[top3_pos_feat_index[1]])\n",
    "print (\"Third Feature: %s\\n\"%x_test.columns[top3_pos_feat_index[2]])\n",
    "print (\"5)Top 3 feature values that contribute the most to the negative evidence.\")\n",
    "top3_neg_feat_index = sorted(neg_evi_feat[uncertain_obj_index], key=neg_evi_feat[uncertain_obj_index].get,reverse=True)[0:3]\n",
    "print (\"First Feature: %s\"%x_test.columns[top3_neg_feat_index[0]])\n",
    "print (\"Second Feature: %s\"%x_test.columns[top3_neg_feat_index[1]])\n",
    "print (\"Third Feature: %s\"%x_test.columns[top3_neg_feat_index[2]])"
   ]
  },
  {
   "cell_type": "code",
   "execution_count": 106,
   "metadata": {
    "collapsed": true
   },
   "outputs": [],
   "source": [
    "## End of the Ipython Notebook"
   ]
  }
 ],
 "metadata": {
  "anaconda-cloud": {},
  "kernelspec": {
   "display_name": "Python [Root]",
   "language": "python",
   "name": "Python [Root]"
  },
  "language_info": {
   "codemirror_mode": {
    "name": "ipython",
    "version": 3
   },
   "file_extension": ".py",
   "mimetype": "text/x-python",
   "name": "python",
   "nbconvert_exporter": "python",
   "pygments_lexer": "ipython3",
   "version": "3.5.2"
  }
 },
 "nbformat": 4,
 "nbformat_minor": 0
}
